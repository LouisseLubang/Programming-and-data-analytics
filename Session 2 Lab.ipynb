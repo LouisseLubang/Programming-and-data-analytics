{
 "cells": [
  {
   "cell_type": "markdown",
   "metadata": {},
   "source": [
    "# Getting Started with Data Science"
   ]
  },
  {
   "cell_type": "markdown",
   "metadata": {},
   "source": [
    "## Setup:"
   ]
  },
  {
   "cell_type": "markdown",
   "metadata": {},
   "source": [
    "### Importing the necessary libraries and magic functions\n",
    "\n",
    "Libraries:\n",
    "* <a href=\"http://www.numpy.org/\">**Numpy**</a>: Fundamental package for scientific computing\n",
    "* <a href=\"https://pandas.pydata.org/\">**Pandas**</a>: Library providing high-performance, easy-to-use data structures and data analysis tools\n",
    "* <a href=\"https://matplotlib.org/\">**Matplotlib**</a>: 2D Plotting library which produces publication quality figures in a variety of hardcopy formats and interactive environments across platforms\n",
    "* <a href=\"https://seaborn.pydata.org/\">**Seaborn**</a>: Data visualization library based on matplotlib\n",
    "\n",
    "Magic Functions:\n",
    "* %matplotlib inline - magic function in Jupyter Notebook that allows plots to be displayed within the notebook"
   ]
  },
  {
   "cell_type": "code",
   "execution_count": 1,
   "metadata": {},
   "outputs": [],
   "source": [
    "%matplotlib inline\n",
    "\n",
    "import numpy as np \n",
    "import pandas as pd \n",
    "import matplotlib.pyplot as plt \n",
    "import seaborn as sns"
   ]
  },
  {
   "cell_type": "markdown",
   "metadata": {},
   "source": [
    "## Pandas Series"
   ]
  },
  {
   "cell_type": "markdown",
   "metadata": {},
   "source": [
    "A Series is a one-dimensional labeled array capable of holding any data type. The axis labels are collectively referred to as the index."
   ]
  },
  {
   "cell_type": "markdown",
   "metadata": {},
   "source": [
    "For this example, we will create a series of 5 samples containing information about height in cm."
   ]
  },
  {
   "cell_type": "code",
   "execution_count": 2,
   "metadata": {},
   "outputs": [],
   "source": [
    "s_height = pd.Series([165,154,170,183,120], index=['a','b','c','d','e'])"
   ]
  },
  {
   "cell_type": "markdown",
   "metadata": {},
   "source": [
    "#### View the series"
   ]
  },
  {
   "cell_type": "code",
   "execution_count": 3,
   "metadata": {},
   "outputs": [
    {
     "data": {
      "text/plain": [
       "a    165\n",
       "b    154\n",
       "c    170\n",
       "d    183\n",
       "e    120\n",
       "dtype: int64"
      ]
     },
     "execution_count": 3,
     "metadata": {},
     "output_type": "execute_result"
    }
   ],
   "source": [
    "s_height"
   ]
  },
  {
   "cell_type": "markdown",
   "metadata": {},
   "source": [
    "#### Check series statistics"
   ]
  },
  {
   "cell_type": "code",
   "execution_count": 4,
   "metadata": {},
   "outputs": [
    {
     "data": {
      "text/plain": [
       "158.4"
      ]
     },
     "execution_count": 4,
     "metadata": {},
     "output_type": "execute_result"
    }
   ],
   "source": [
    "s_height.mean()"
   ]
  },
  {
   "cell_type": "code",
   "execution_count": 5,
   "metadata": {},
   "outputs": [
    {
     "data": {
      "text/plain": [
       "183"
      ]
     },
     "execution_count": 5,
     "metadata": {},
     "output_type": "execute_result"
    }
   ],
   "source": [
    "s_height.max()"
   ]
  },
  {
   "cell_type": "code",
   "execution_count": 6,
   "metadata": {},
   "outputs": [
    {
     "data": {
      "text/plain": [
       "120"
      ]
     },
     "execution_count": 6,
     "metadata": {},
     "output_type": "execute_result"
    }
   ],
   "source": [
    "s_height.min()"
   ]
  },
  {
   "cell_type": "code",
   "execution_count": 11,
   "metadata": {},
   "outputs": [
    {
     "data": {
      "text/plain": [
       "count      5.000000\n",
       "mean     158.400000\n",
       "std       23.860008\n",
       "min      120.000000\n",
       "25%      154.000000\n",
       "50%      165.000000\n",
       "75%      170.000000\n",
       "max      183.000000\n",
       "dtype: float64"
      ]
     },
     "execution_count": 11,
     "metadata": {},
     "output_type": "execute_result"
    }
   ],
   "source": [
    "s_height.describe()"
   ]
  },
  {
   "cell_type": "markdown",
   "metadata": {},
   "source": [
    "### Accessing Series Values"
   ]
  },
  {
   "cell_type": "markdown",
   "metadata": {},
   "source": [
    "#### By index key:"
   ]
  },
  {
   "cell_type": "code",
   "execution_count": 12,
   "metadata": {},
   "outputs": [
    {
     "data": {
      "text/plain": [
       "154"
      ]
     },
     "execution_count": 12,
     "metadata": {},
     "output_type": "execute_result"
    }
   ],
   "source": [
    "s_height['b']"
   ]
  },
  {
   "cell_type": "markdown",
   "metadata": {},
   "source": [
    "#### By index position (starting with 0)"
   ]
  },
  {
   "cell_type": "code",
   "execution_count": 13,
   "metadata": {},
   "outputs": [
    {
     "data": {
      "text/plain": [
       "170"
      ]
     },
     "execution_count": 13,
     "metadata": {},
     "output_type": "execute_result"
    }
   ],
   "source": [
    "s_height.iloc[2]"
   ]
  },
  {
   "cell_type": "markdown",
   "metadata": {},
   "source": [
    "#### Access multiple values by specifying indices"
   ]
  },
  {
   "cell_type": "code",
   "execution_count": 14,
   "metadata": {},
   "outputs": [
    {
     "data": {
      "text/plain": [
       "a    165\n",
       "c    170\n",
       "d    183\n",
       "dtype: int64"
      ]
     },
     "execution_count": 14,
     "metadata": {},
     "output_type": "execute_result"
    }
   ],
   "source": [
    "s_height[['a','c','d']]"
   ]
  },
  {
   "cell_type": "markdown",
   "metadata": {},
   "source": [
    "#### Access multiple values by specifying index range"
   ]
  },
  {
   "cell_type": "code",
   "execution_count": 15,
   "metadata": {},
   "outputs": [
    {
     "data": {
      "text/plain": [
       "a    165\n",
       "b    154\n",
       "c    170\n",
       "d    183\n",
       "dtype: int64"
      ]
     },
     "execution_count": 15,
     "metadata": {},
     "output_type": "execute_result"
    }
   ],
   "source": [
    "s_height['a':'d']"
   ]
  },
  {
   "cell_type": "markdown",
   "metadata": {},
   "source": [
    "### Modifying Values"
   ]
  },
  {
   "cell_type": "code",
   "execution_count": 16,
   "metadata": {},
   "outputs": [],
   "source": [
    "s_height['a'] = 175"
   ]
  },
  {
   "cell_type": "code",
   "execution_count": 17,
   "metadata": {},
   "outputs": [
    {
     "data": {
      "text/plain": [
       "175"
      ]
     },
     "execution_count": 17,
     "metadata": {},
     "output_type": "execute_result"
    }
   ],
   "source": [
    "s_height['a']"
   ]
  },
  {
   "cell_type": "markdown",
   "metadata": {},
   "source": [
    "### Filtering Values"
   ]
  },
  {
   "cell_type": "markdown",
   "metadata": {},
   "source": [
    "#### Check True/False value based on condition"
   ]
  },
  {
   "cell_type": "code",
   "execution_count": 18,
   "metadata": {},
   "outputs": [
    {
     "data": {
      "text/plain": [
       "a    False\n",
       "b     True\n",
       "c    False\n",
       "d    False\n",
       "e     True\n",
       "dtype: bool"
      ]
     },
     "execution_count": 18,
     "metadata": {},
     "output_type": "execute_result"
    }
   ],
   "source": [
    "s_height < 170"
   ]
  },
  {
   "cell_type": "markdown",
   "metadata": {},
   "source": [
    "#### Select samples that satisfy condition"
   ]
  },
  {
   "cell_type": "code",
   "execution_count": 19,
   "metadata": {},
   "outputs": [
    {
     "data": {
      "text/plain": [
       "b    154\n",
       "e    120\n",
       "dtype: int64"
      ]
     },
     "execution_count": 19,
     "metadata": {},
     "output_type": "execute_result"
    }
   ],
   "source": [
    "s_height[s_height < 170]"
   ]
  },
  {
   "cell_type": "markdown",
   "metadata": {},
   "source": [
    "#### Select samples with \"AND\" condition"
   ]
  },
  {
   "cell_type": "code",
   "execution_count": 20,
   "metadata": {},
   "outputs": [
    {
     "data": {
      "text/plain": [
       "a    175\n",
       "c    170\n",
       "dtype: int64"
      ]
     },
     "execution_count": 20,
     "metadata": {},
     "output_type": "execute_result"
    }
   ],
   "source": [
    "s_height[(s_height < 180) & (s_height > 160)]"
   ]
  },
  {
   "cell_type": "markdown",
   "metadata": {},
   "source": [
    "#### Select samples with \"OR\" condition"
   ]
  },
  {
   "cell_type": "code",
   "execution_count": 21,
   "metadata": {},
   "outputs": [
    {
     "data": {
      "text/plain": [
       "a    175\n",
       "c    170\n",
       "d    183\n",
       "dtype: int64"
      ]
     },
     "execution_count": 21,
     "metadata": {},
     "output_type": "execute_result"
    }
   ],
   "source": [
    "s_height[(s_height > 160) | (s_height.index == 'c' )]"
   ]
  },
  {
   "cell_type": "markdown",
   "metadata": {},
   "source": [
    "### Plotting the series"
   ]
  },
  {
   "cell_type": "code",
   "execution_count": 22,
   "metadata": {},
   "outputs": [
    {
     "data": {
      "text/plain": [
       "<AxesSubplot:title={'center':'Heights'}>"
      ]
     },
     "execution_count": 22,
     "metadata": {},
     "output_type": "execute_result"
    },
    {
     "data": {
      "image/png": "[encoded data removed]",
      "text/plain": [
       "<Figure size 432x288 with 1 Axes>"
      ]
     },
     "metadata": {
      "needs_background": "light"
     },
     "output_type": "display_data"
    }
   ],
   "source": [
    "s_height.plot.bar(title=\"Heights\")"
   ]
  },
  {
   "cell_type": "markdown",
   "metadata": {},
   "source": [
    "## Pandas Dataframe"
   ]
  },
  {
   "cell_type": "markdown",
   "metadata": {},
   "source": [
    "A Dataframe is the primary pandas data structure. It is a Two-dimensional size-mutable, potentially heterogeneous tabular data structure with labeled axes (rows and columns). Arithmetic operations align on both row and column labels. Can be thought of as a dict-like container for Series objects. \n",
    "\n",
    "To put it simply, a dataframe is a table with rows (samples) and columns (features)\n",
    "\n",
    "Pandas loads data as a Dataframe object"
   ]
  },
  {
   "cell_type": "markdown",
   "metadata": {},
   "source": [
    "### Loading Data"
   ]
  },
  {
   "cell_type": "markdown",
   "metadata": {},
   "source": [
    "#### Available Readers and Writers for Pandas\n",
    "\n",
    "<table border=\"1\" class=\"colwidths-given docutils\">\n",
    "<colgroup>\n",
    "<col width=\"12%\" />\n",
    "<col width=\"40%\" />\n",
    "<col width=\"24%\" />\n",
    "<col width=\"24%\" />\n",
    "</colgroup>\n",
    "<thead valign=\"bottom\">\n",
    "<tr class=\"row-odd\"><th class=\"head\">Format Type</th>\n",
    "<th class=\"head\">Data Description</th>\n",
    "<th class=\"head\">Reader</th>\n",
    "<th class=\"head\">Writer</th>\n",
    "</tr>\n",
    "</thead>\n",
    "<tbody valign=\"top\">\n",
    "<tr class=\"row-even\"><td>text</td>\n",
    "<td><a class=\"reference external\" href=\"https://en.wikipedia.org/wiki/Comma-separated_values\">CSV</a></td>\n",
    "<td><a class=\"reference internal\" href=\"#io-read-csv-table\"><span class=\"std std-ref\">read_csv</span></a></td>\n",
    "<td><a class=\"reference internal\" href=\"#io-store-in-csv\"><span class=\"std std-ref\">to_csv</span></a></td>\n",
    "</tr>\n",
    "<tr class=\"row-odd\"><td>text</td>\n",
    "<td><a class=\"reference external\" href=\"http://www.json.org/\">JSON</a></td>\n",
    "<td><a class=\"reference internal\" href=\"#io-json-reader\"><span class=\"std std-ref\">read_json</span></a></td>\n",
    "<td><a class=\"reference internal\" href=\"#io-json-writer\"><span class=\"std std-ref\">to_json</span></a></td>\n",
    "</tr>\n",
    "<tr class=\"row-even\"><td>text</td>\n",
    "<td><a class=\"reference external\" href=\"https://en.wikipedia.org/wiki/HTML\">HTML</a></td>\n",
    "<td><a class=\"reference internal\" href=\"#io-read-html\"><span class=\"std std-ref\">read_html</span></a></td>\n",
    "<td><a class=\"reference internal\" href=\"#io-html\"><span class=\"std std-ref\">to_html</span></a></td>\n",
    "</tr>\n",
    "<tr class=\"row-odd\"><td>text</td>\n",
    "<td>Local clipboard</td>\n",
    "<td><a class=\"reference internal\" href=\"#io-clipboard\"><span class=\"std std-ref\">read_clipboard</span></a></td>\n",
    "<td><a class=\"reference internal\" href=\"#io-clipboard\"><span class=\"std std-ref\">to_clipboard</span></a></td>\n",
    "</tr>\n",
    "<tr class=\"row-even\"><td>binary</td>\n",
    "<td><a class=\"reference external\" href=\"https://en.wikipedia.org/wiki/Microsoft_Excel\">MS Excel</a></td>\n",
    "<td><a class=\"reference internal\" href=\"#io-excel-reader\"><span class=\"std std-ref\">read_excel</span></a></td>\n",
    "<td><a class=\"reference internal\" href=\"#io-excel-writer\"><span class=\"std std-ref\">to_excel</span></a></td>\n",
    "</tr>\n",
    "<tr class=\"row-odd\"><td>binary</td>\n",
    "<td><a class=\"reference external\" href=\"https://support.hdfgroup.org/HDF5/whatishdf5.html\">HDF5 Format</a></td>\n",
    "<td><a class=\"reference internal\" href=\"#io-hdf5\"><span class=\"std std-ref\">read_hdf</span></a></td>\n",
    "<td><a class=\"reference internal\" href=\"#io-hdf5\"><span class=\"std std-ref\">to_hdf</span></a></td>\n",
    "</tr>\n",
    "<tr class=\"row-even\"><td>binary</td>\n",
    "<td><a class=\"reference external\" href=\"https://github.com/wesm/feather\">Feather Format</a></td>\n",
    "<td><a class=\"reference internal\" href=\"#io-feather\"><span class=\"std std-ref\">read_feather</span></a></td>\n",
    "<td><a class=\"reference internal\" href=\"#io-feather\"><span class=\"std std-ref\">to_feather</span></a></td>\n",
    "</tr>\n",
    "<tr class=\"row-odd\"><td>binary</td>\n",
    "<td><a class=\"reference external\" href=\"https://parquet.apache.org/\">Parquet Format</a></td>\n",
    "<td><a class=\"reference internal\" href=\"#io-parquet\"><span class=\"std std-ref\">read_parquet</span></a></td>\n",
    "<td><a class=\"reference internal\" href=\"#io-parquet\"><span class=\"std std-ref\">to_parquet</span></a></td>\n",
    "</tr>\n",
    "<tr class=\"row-even\"><td>binary</td>\n",
    "<td><a class=\"reference external\" href=\"http://msgpack.org/index.html\">Msgpack</a></td>\n",
    "<td><a class=\"reference internal\" href=\"#io-msgpack\"><span class=\"std std-ref\">read_msgpack</span></a></td>\n",
    "<td><a class=\"reference internal\" href=\"#io-msgpack\"><span class=\"std std-ref\">to_msgpack</span></a></td>\n",
    "</tr>\n",
    "<tr class=\"row-odd\"><td>binary</td>\n",
    "<td><a class=\"reference external\" href=\"https://en.wikipedia.org/wiki/Stata\">Stata</a></td>\n",
    "<td><a class=\"reference internal\" href=\"#io-stata-reader\"><span class=\"std std-ref\">read_stata</span></a></td>\n",
    "<td><a class=\"reference internal\" href=\"#io-stata-writer\"><span class=\"std std-ref\">to_stata</span></a></td>\n",
    "</tr>\n",
    "<tr class=\"row-even\"><td>binary</td>\n",
    "<td><a class=\"reference external\" href=\"https://en.wikipedia.org/wiki/SAS_(software)\">SAS</a></td>\n",
    "<td><a class=\"reference internal\" href=\"#io-sas-reader\"><span class=\"std std-ref\">read_sas</span></a></td>\n",
    "<td>&#160;</td>\n",
    "</tr>\n",
    "<tr class=\"row-odd\"><td>binary</td>\n",
    "<td><a class=\"reference external\" href=\"https://docs.python.org/3/library/pickle.html\">Python Pickle Format</a></td>\n",
    "<td><a class=\"reference internal\" href=\"#io-pickle\"><span class=\"std std-ref\">read_pickle</span></a></td>\n",
    "<td><a class=\"reference internal\" href=\"#io-pickle\"><span class=\"std std-ref\">to_pickle</span></a></td>\n",
    "</tr>\n",
    "<tr class=\"row-even\"><td>SQL</td>\n",
    "<td><a class=\"reference external\" href=\"https://en.wikipedia.org/wiki/SQL\">SQL</a></td>\n",
    "<td><a class=\"reference internal\" href=\"#io-sql\"><span class=\"std std-ref\">read_sql</span></a></td>\n",
    "<td><a class=\"reference internal\" href=\"#io-sql\"><span class=\"std std-ref\">to_sql</span></a></td>\n",
    "</tr>\n",
    "<tr class=\"row-odd\"><td>SQL</td>\n",
    "<td><a class=\"reference external\" href=\"https://en.wikipedia.org/wiki/BigQuery\">Google Big Query</a></td>\n",
    "<td><a class=\"reference internal\" href=\"#io-bigquery\"><span class=\"std std-ref\">read_gbq</span></a></td>\n",
    "<td><a class=\"reference internal\" href=\"#io-bigquery\"><span class=\"std std-ref\">to_gbq</span></a></td>\n",
    "</tr>\n",
    "</tbody>\n",
    "</table>"
   ]
  },
  {
   "cell_type": "code",
   "execution_count": 60,
   "metadata": {},
   "outputs": [],
   "source": [
    "df = pd.read_csv('marvel-wikia-data.csv')"
   ]
  },
  {
   "cell_type": "markdown",
   "metadata": {},
   "source": [
    "### Inspect Dataset"
   ]
  },
  {
   "cell_type": "markdown",
   "metadata": {},
   "source": [
    "#### View top rows"
   ]
  },
  {
   "cell_type": "code",
   "execution_count": 61,
   "metadata": {},
   "outputs": [
    {
     "data": {
      "text/html": [
       "<div>\n",
       "<style scoped>\n",
       "    .dataframe tbody tr th:only-of-type {\n",
       "        vertical-align: middle;\n",
       "    }\n",
       "\n",
       "    .dataframe tbody tr th {\n",
       "        vertical-align: top;\n",
       "    }\n",
       "\n",
       "    .dataframe thead th {\n",
       "        text-align: right;\n",
       "    }\n",
       "</style>\n",
       "<table border=\"1\" class=\"dataframe\">\n",
       "  <thead>\n",
       "    <tr style=\"text-align: right;\">\n",
       "      <th></th>\n",
       "      <th>page_id</th>\n",
       "      <th>name</th>\n",
       "      <th>ID</th>\n",
       "      <th>ALIGN</th>\n",
       "      <th>EYE</th>\n",
       "      <th>HAIR</th>\n",
       "      <th>SEX</th>\n",
       "      <th>GSM</th>\n",
       "      <th>ALIVE</th>\n",
       "      <th>APPEARANCES</th>\n",
       "      <th>FIRST APPEARANCE</th>\n",
       "      <th>Year</th>\n",
       "    </tr>\n",
       "  </thead>\n",
       "  <tbody>\n",
       "    <tr>\n",
       "      <th>0</th>\n",
       "      <td>1678</td>\n",
       "      <td>Spider-Man (Peter Parker)</td>\n",
       "      <td>Secret Identity</td>\n",
       "      <td>Good Characters</td>\n",
       "      <td>Hazel Eyes</td>\n",
       "      <td>Brown Hair</td>\n",
       "      <td>Male Characters</td>\n",
       "      <td>NaN</td>\n",
       "      <td>Living Characters</td>\n",
       "      <td>4043.0</td>\n",
       "      <td>Aug-62</td>\n",
       "      <td>1962.0</td>\n",
       "    </tr>\n",
       "    <tr>\n",
       "      <th>1</th>\n",
       "      <td>7139</td>\n",
       "      <td>Captain America (Steven Rogers)</td>\n",
       "      <td>Public Identity</td>\n",
       "      <td>Good Characters</td>\n",
       "      <td>Blue Eyes</td>\n",
       "      <td>White Hair</td>\n",
       "      <td>Male Characters</td>\n",
       "      <td>NaN</td>\n",
       "      <td>Living Characters</td>\n",
       "      <td>3360.0</td>\n",
       "      <td>Mar-41</td>\n",
       "      <td>1941.0</td>\n",
       "    </tr>\n",
       "    <tr>\n",
       "      <th>2</th>\n",
       "      <td>64786</td>\n",
       "      <td>Wolverine (James \\\"Logan\\\" Howlett)</td>\n",
       "      <td>Public Identity</td>\n",
       "      <td>Neutral Characters</td>\n",
       "      <td>Blue Eyes</td>\n",
       "      <td>Black Hair</td>\n",
       "      <td>Male Characters</td>\n",
       "      <td>NaN</td>\n",
       "      <td>Living Characters</td>\n",
       "      <td>3061.0</td>\n",
       "      <td>Oct-74</td>\n",
       "      <td>1974.0</td>\n",
       "    </tr>\n",
       "    <tr>\n",
       "      <th>3</th>\n",
       "      <td>1868</td>\n",
       "      <td>Iron Man (Anthony \\\"Tony\\\" Stark)</td>\n",
       "      <td>Public Identity</td>\n",
       "      <td>Good Characters</td>\n",
       "      <td>Blue Eyes</td>\n",
       "      <td>Black Hair</td>\n",
       "      <td>Male Characters</td>\n",
       "      <td>NaN</td>\n",
       "      <td>Living Characters</td>\n",
       "      <td>2961.0</td>\n",
       "      <td>Mar-63</td>\n",
       "      <td>1963.0</td>\n",
       "    </tr>\n",
       "    <tr>\n",
       "      <th>4</th>\n",
       "      <td>2460</td>\n",
       "      <td>Thor (Thor Odinson)</td>\n",
       "      <td>No Dual Identity</td>\n",
       "      <td>Good Characters</td>\n",
       "      <td>Blue Eyes</td>\n",
       "      <td>Blond Hair</td>\n",
       "      <td>Male Characters</td>\n",
       "      <td>NaN</td>\n",
       "      <td>Living Characters</td>\n",
       "      <td>2258.0</td>\n",
       "      <td>Nov-50</td>\n",
       "      <td>1950.0</td>\n",
       "    </tr>\n",
       "  </tbody>\n",
       "</table>\n",
       "</div>"
      ],
      "text/plain": [
       "   page_id                                 name                ID  \\\n",
       "0     1678            Spider-Man (Peter Parker)   Secret Identity   \n",
       "1     7139      Captain America (Steven Rogers)   Public Identity   \n",
       "2    64786  Wolverine (James \\\"Logan\\\" Howlett)   Public Identity   \n",
       "3     1868    Iron Man (Anthony \\\"Tony\\\" Stark)   Public Identity   \n",
       "4     2460                  Thor (Thor Odinson)  No Dual Identity   \n",
       "\n",
       "                ALIGN         EYE        HAIR              SEX  GSM  \\\n",
       "0     Good Characters  Hazel Eyes  Brown Hair  Male Characters  NaN   \n",
       "1     Good Characters   Blue Eyes  White Hair  Male Characters  NaN   \n",
       "2  Neutral Characters   Blue Eyes  Black Hair  Male Characters  NaN   \n",
       "3     Good Characters   Blue Eyes  Black Hair  Male Characters  NaN   \n",
       "4     Good Characters   Blue Eyes  Blond Hair  Male Characters  NaN   \n",
       "\n",
       "               ALIVE  APPEARANCES FIRST APPEARANCE    Year  \n",
       "0  Living Characters       4043.0           Aug-62  1962.0  \n",
       "1  Living Characters       3360.0           Mar-41  1941.0  \n",
       "2  Living Characters       3061.0           Oct-74  1974.0  \n",
       "3  Living Characters       2961.0           Mar-63  1963.0  \n",
       "4  Living Characters       2258.0           Nov-50  1950.0  "
      ]
     },
     "execution_count": 61,
     "metadata": {},
     "output_type": "execute_result"
    }
   ],
   "source": [
    "df.head()"
   ]
  },
  {
   "cell_type": "markdown",
   "metadata": {},
   "source": [
    "#### View bottom rows"
   ]
  },
  {
   "cell_type": "code",
   "execution_count": 62,
   "metadata": {},
   "outputs": [
    {
     "data": {
      "text/html": [
       "<div>\n",
       "<style scoped>\n",
       "    .dataframe tbody tr th:only-of-type {\n",
       "        vertical-align: middle;\n",
       "    }\n",
       "\n",
       "    .dataframe tbody tr th {\n",
       "        vertical-align: top;\n",
       "    }\n",
       "\n",
       "    .dataframe thead th {\n",
       "        text-align: right;\n",
       "    }\n",
       "</style>\n",
       "<table border=\"1\" class=\"dataframe\">\n",
       "  <thead>\n",
       "    <tr style=\"text-align: right;\">\n",
       "      <th></th>\n",
       "      <th>page_id</th>\n",
       "      <th>name</th>\n",
       "      <th>ID</th>\n",
       "      <th>ALIGN</th>\n",
       "      <th>EYE</th>\n",
       "      <th>HAIR</th>\n",
       "      <th>SEX</th>\n",
       "      <th>GSM</th>\n",
       "      <th>ALIVE</th>\n",
       "      <th>APPEARANCES</th>\n",
       "      <th>FIRST APPEARANCE</th>\n",
       "      <th>Year</th>\n",
       "    </tr>\n",
       "  </thead>\n",
       "  <tbody>\n",
       "    <tr>\n",
       "      <th>16371</th>\n",
       "      <td>657508</td>\n",
       "      <td>Ru'ach (Earth-616)</td>\n",
       "      <td>No Dual Identity</td>\n",
       "      <td>Bad Characters</td>\n",
       "      <td>Green Eyes</td>\n",
       "      <td>No Hair</td>\n",
       "      <td>Male Characters</td>\n",
       "      <td>NaN</td>\n",
       "      <td>Living Characters</td>\n",
       "      <td>NaN</td>\n",
       "      <td>NaN</td>\n",
       "      <td>NaN</td>\n",
       "    </tr>\n",
       "    <tr>\n",
       "      <th>16372</th>\n",
       "      <td>665474</td>\n",
       "      <td>Thane (Thanos' son) (Earth-616)</td>\n",
       "      <td>No Dual Identity</td>\n",
       "      <td>Good Characters</td>\n",
       "      <td>Blue Eyes</td>\n",
       "      <td>Bald</td>\n",
       "      <td>Male Characters</td>\n",
       "      <td>NaN</td>\n",
       "      <td>Living Characters</td>\n",
       "      <td>NaN</td>\n",
       "      <td>NaN</td>\n",
       "      <td>NaN</td>\n",
       "    </tr>\n",
       "    <tr>\n",
       "      <th>16373</th>\n",
       "      <td>695217</td>\n",
       "      <td>Tinkerer (Skrull) (Earth-616)</td>\n",
       "      <td>Secret Identity</td>\n",
       "      <td>Bad Characters</td>\n",
       "      <td>Black Eyes</td>\n",
       "      <td>Bald</td>\n",
       "      <td>Male Characters</td>\n",
       "      <td>NaN</td>\n",
       "      <td>Living Characters</td>\n",
       "      <td>NaN</td>\n",
       "      <td>NaN</td>\n",
       "      <td>NaN</td>\n",
       "    </tr>\n",
       "    <tr>\n",
       "      <th>16374</th>\n",
       "      <td>708811</td>\n",
       "      <td>TK421 (Spiderling) (Earth-616)</td>\n",
       "      <td>Secret Identity</td>\n",
       "      <td>Neutral Characters</td>\n",
       "      <td>NaN</td>\n",
       "      <td>NaN</td>\n",
       "      <td>Male Characters</td>\n",
       "      <td>NaN</td>\n",
       "      <td>Living Characters</td>\n",
       "      <td>NaN</td>\n",
       "      <td>NaN</td>\n",
       "      <td>NaN</td>\n",
       "    </tr>\n",
       "    <tr>\n",
       "      <th>16375</th>\n",
       "      <td>673702</td>\n",
       "      <td>Yologarch (Earth-616)</td>\n",
       "      <td>NaN</td>\n",
       "      <td>Bad Characters</td>\n",
       "      <td>NaN</td>\n",
       "      <td>NaN</td>\n",
       "      <td>NaN</td>\n",
       "      <td>NaN</td>\n",
       "      <td>Living Characters</td>\n",
       "      <td>NaN</td>\n",
       "      <td>NaN</td>\n",
       "      <td>NaN</td>\n",
       "    </tr>\n",
       "  </tbody>\n",
       "</table>\n",
       "</div>"
      ],
      "text/plain": [
       "       page_id                             name                ID  \\\n",
       "16371   657508               Ru'ach (Earth-616)  No Dual Identity   \n",
       "16372   665474  Thane (Thanos' son) (Earth-616)  No Dual Identity   \n",
       "16373   695217    Tinkerer (Skrull) (Earth-616)   Secret Identity   \n",
       "16374   708811   TK421 (Spiderling) (Earth-616)   Secret Identity   \n",
       "16375   673702            Yologarch (Earth-616)               NaN   \n",
       "\n",
       "                    ALIGN         EYE     HAIR              SEX  GSM  \\\n",
       "16371      Bad Characters  Green Eyes  No Hair  Male Characters  NaN   \n",
       "16372     Good Characters   Blue Eyes     Bald  Male Characters  NaN   \n",
       "16373      Bad Characters  Black Eyes     Bald  Male Characters  NaN   \n",
       "16374  Neutral Characters         NaN      NaN  Male Characters  NaN   \n",
       "16375      Bad Characters         NaN      NaN              NaN  NaN   \n",
       "\n",
       "                   ALIVE  APPEARANCES FIRST APPEARANCE  Year  \n",
       "16371  Living Characters          NaN              NaN   NaN  \n",
       "16372  Living Characters          NaN              NaN   NaN  \n",
       "16373  Living Characters          NaN              NaN   NaN  \n",
       "16374  Living Characters          NaN              NaN   NaN  \n",
       "16375  Living Characters          NaN              NaN   NaN  "
      ]
     },
     "execution_count": 62,
     "metadata": {},
     "output_type": "execute_result"
    }
   ],
   "source": [
    "df.tail()"
   ]
  },
  {
   "cell_type": "markdown",
   "metadata": {},
   "source": [
    "#### Inspect data types of features"
   ]
  },
  {
   "cell_type": "code",
   "execution_count": 63,
   "metadata": {},
   "outputs": [
    {
     "data": {
      "text/plain": [
       "page_id               int64\n",
       "name                 object\n",
       "ID                   object\n",
       "ALIGN                object\n",
       "EYE                  object\n",
       "HAIR                 object\n",
       "SEX                  object\n",
       "GSM                  object\n",
       "ALIVE                object\n",
       "APPEARANCES         float64\n",
       "FIRST APPEARANCE     object\n",
       "Year                float64\n",
       "dtype: object"
      ]
     },
     "execution_count": 63,
     "metadata": {},
     "output_type": "execute_result"
    }
   ],
   "source": [
    "df.dtypes"
   ]
  },
  {
   "cell_type": "markdown",
   "metadata": {},
   "source": [
    "#### Describe the dataset"
   ]
  },
  {
   "cell_type": "code",
   "execution_count": 64,
   "metadata": {},
   "outputs": [
    {
     "data": {
      "text/html": [
       "<div>\n",
       "<style scoped>\n",
       "    .dataframe tbody tr th:only-of-type {\n",
       "        vertical-align: middle;\n",
       "    }\n",
       "\n",
       "    .dataframe tbody tr th {\n",
       "        vertical-align: top;\n",
       "    }\n",
       "\n",
       "    .dataframe thead th {\n",
       "        text-align: right;\n",
       "    }\n",
       "</style>\n",
       "<table border=\"1\" class=\"dataframe\">\n",
       "  <thead>\n",
       "    <tr style=\"text-align: right;\">\n",
       "      <th></th>\n",
       "      <th>page_id</th>\n",
       "      <th>APPEARANCES</th>\n",
       "      <th>Year</th>\n",
       "    </tr>\n",
       "  </thead>\n",
       "  <tbody>\n",
       "    <tr>\n",
       "      <th>count</th>\n",
       "      <td>16376.000000</td>\n",
       "      <td>15280.000000</td>\n",
       "      <td>15561.000000</td>\n",
       "    </tr>\n",
       "    <tr>\n",
       "      <th>mean</th>\n",
       "      <td>300232.082377</td>\n",
       "      <td>17.033377</td>\n",
       "      <td>1984.951803</td>\n",
       "    </tr>\n",
       "    <tr>\n",
       "      <th>std</th>\n",
       "      <td>253460.403399</td>\n",
       "      <td>96.372959</td>\n",
       "      <td>19.663571</td>\n",
       "    </tr>\n",
       "    <tr>\n",
       "      <th>min</th>\n",
       "      <td>1025.000000</td>\n",
       "      <td>1.000000</td>\n",
       "      <td>1939.000000</td>\n",
       "    </tr>\n",
       "    <tr>\n",
       "      <th>25%</th>\n",
       "      <td>28309.500000</td>\n",
       "      <td>1.000000</td>\n",
       "      <td>1974.000000</td>\n",
       "    </tr>\n",
       "    <tr>\n",
       "      <th>50%</th>\n",
       "      <td>282578.000000</td>\n",
       "      <td>3.000000</td>\n",
       "      <td>1990.000000</td>\n",
       "    </tr>\n",
       "    <tr>\n",
       "      <th>75%</th>\n",
       "      <td>509077.000000</td>\n",
       "      <td>8.000000</td>\n",
       "      <td>2000.000000</td>\n",
       "    </tr>\n",
       "    <tr>\n",
       "      <th>max</th>\n",
       "      <td>755278.000000</td>\n",
       "      <td>4043.000000</td>\n",
       "      <td>2013.000000</td>\n",
       "    </tr>\n",
       "  </tbody>\n",
       "</table>\n",
       "</div>"
      ],
      "text/plain": [
       "             page_id   APPEARANCES          Year\n",
       "count   16376.000000  15280.000000  15561.000000\n",
       "mean   300232.082377     17.033377   1984.951803\n",
       "std    253460.403399     96.372959     19.663571\n",
       "min      1025.000000      1.000000   1939.000000\n",
       "25%     28309.500000      1.000000   1974.000000\n",
       "50%    282578.000000      3.000000   1990.000000\n",
       "75%    509077.000000      8.000000   2000.000000\n",
       "max    755278.000000   4043.000000   2013.000000"
      ]
     },
     "execution_count": 64,
     "metadata": {},
     "output_type": "execute_result"
    }
   ],
   "source": [
    "df.describe() #This will only include numeric features"
   ]
  },
  {
   "cell_type": "code",
   "execution_count": 65,
   "metadata": {},
   "outputs": [
    {
     "data": {
      "text/html": [
       "<div>\n",
       "<style scoped>\n",
       "    .dataframe tbody tr th:only-of-type {\n",
       "        vertical-align: middle;\n",
       "    }\n",
       "\n",
       "    .dataframe tbody tr th {\n",
       "        vertical-align: top;\n",
       "    }\n",
       "\n",
       "    .dataframe thead th {\n",
       "        text-align: right;\n",
       "    }\n",
       "</style>\n",
       "<table border=\"1\" class=\"dataframe\">\n",
       "  <thead>\n",
       "    <tr style=\"text-align: right;\">\n",
       "      <th></th>\n",
       "      <th>name</th>\n",
       "      <th>ID</th>\n",
       "      <th>ALIGN</th>\n",
       "      <th>EYE</th>\n",
       "      <th>HAIR</th>\n",
       "      <th>SEX</th>\n",
       "      <th>GSM</th>\n",
       "      <th>ALIVE</th>\n",
       "      <th>FIRST APPEARANCE</th>\n",
       "    </tr>\n",
       "  </thead>\n",
       "  <tbody>\n",
       "    <tr>\n",
       "      <th>count</th>\n",
       "      <td>16376</td>\n",
       "      <td>12606</td>\n",
       "      <td>13564</td>\n",
       "      <td>6609</td>\n",
       "      <td>12112</td>\n",
       "      <td>15522</td>\n",
       "      <td>90</td>\n",
       "      <td>16373</td>\n",
       "      <td>15561</td>\n",
       "    </tr>\n",
       "    <tr>\n",
       "      <th>unique</th>\n",
       "      <td>16375</td>\n",
       "      <td>4</td>\n",
       "      <td>3</td>\n",
       "      <td>24</td>\n",
       "      <td>25</td>\n",
       "      <td>4</td>\n",
       "      <td>6</td>\n",
       "      <td>2</td>\n",
       "      <td>832</td>\n",
       "    </tr>\n",
       "    <tr>\n",
       "      <th>top</th>\n",
       "      <td>Spinner (Earth-616)</td>\n",
       "      <td>Secret Identity</td>\n",
       "      <td>Bad Characters</td>\n",
       "      <td>Blue Eyes</td>\n",
       "      <td>Black Hair</td>\n",
       "      <td>Male Characters</td>\n",
       "      <td>Homosexual Characters</td>\n",
       "      <td>Living Characters</td>\n",
       "      <td>Jun-92</td>\n",
       "    </tr>\n",
       "    <tr>\n",
       "      <th>freq</th>\n",
       "      <td>2</td>\n",
       "      <td>6275</td>\n",
       "      <td>6720</td>\n",
       "      <td>1962</td>\n",
       "      <td>3755</td>\n",
       "      <td>11638</td>\n",
       "      <td>66</td>\n",
       "      <td>12608</td>\n",
       "      <td>72</td>\n",
       "    </tr>\n",
       "  </tbody>\n",
       "</table>\n",
       "</div>"
      ],
      "text/plain": [
       "                       name               ID           ALIGN        EYE  \\\n",
       "count                 16376            12606           13564       6609   \n",
       "unique                16375                4               3         24   \n",
       "top     Spinner (Earth-616)  Secret Identity  Bad Characters  Blue Eyes   \n",
       "freq                      2             6275            6720       1962   \n",
       "\n",
       "              HAIR              SEX                    GSM              ALIVE  \\\n",
       "count        12112            15522                     90              16373   \n",
       "unique          25                4                      6                  2   \n",
       "top     Black Hair  Male Characters  Homosexual Characters  Living Characters   \n",
       "freq          3755            11638                     66              12608   \n",
       "\n",
       "       FIRST APPEARANCE  \n",
       "count             15561  \n",
       "unique              832  \n",
       "top              Jun-92  \n",
       "freq                 72  "
      ]
     },
     "execution_count": 65,
     "metadata": {},
     "output_type": "execute_result"
    }
   ],
   "source": [
    "df.describe(include='object') #This will only include object/string features"
   ]
  },
  {
   "cell_type": "code",
   "execution_count": 66,
   "metadata": {},
   "outputs": [
    {
     "data": {
      "text/html": [
       "<div>\n",
       "<style scoped>\n",
       "    .dataframe tbody tr th:only-of-type {\n",
       "        vertical-align: middle;\n",
       "    }\n",
       "\n",
       "    .dataframe tbody tr th {\n",
       "        vertical-align: top;\n",
       "    }\n",
       "\n",
       "    .dataframe thead th {\n",
       "        text-align: right;\n",
       "    }\n",
       "</style>\n",
       "<table border=\"1\" class=\"dataframe\">\n",
       "  <thead>\n",
       "    <tr style=\"text-align: right;\">\n",
       "      <th></th>\n",
       "      <th>page_id</th>\n",
       "      <th>name</th>\n",
       "      <th>ID</th>\n",
       "      <th>ALIGN</th>\n",
       "      <th>EYE</th>\n",
       "      <th>HAIR</th>\n",
       "      <th>SEX</th>\n",
       "      <th>GSM</th>\n",
       "      <th>ALIVE</th>\n",
       "      <th>APPEARANCES</th>\n",
       "      <th>FIRST APPEARANCE</th>\n",
       "      <th>Year</th>\n",
       "    </tr>\n",
       "  </thead>\n",
       "  <tbody>\n",
       "    <tr>\n",
       "      <th>count</th>\n",
       "      <td>16376.000000</td>\n",
       "      <td>16376</td>\n",
       "      <td>12606</td>\n",
       "      <td>13564</td>\n",
       "      <td>6609</td>\n",
       "      <td>12112</td>\n",
       "      <td>15522</td>\n",
       "      <td>90</td>\n",
       "      <td>16373</td>\n",
       "      <td>15280.000000</td>\n",
       "      <td>15561</td>\n",
       "      <td>15561.000000</td>\n",
       "    </tr>\n",
       "    <tr>\n",
       "      <th>unique</th>\n",
       "      <td>NaN</td>\n",
       "      <td>16375</td>\n",
       "      <td>4</td>\n",
       "      <td>3</td>\n",
       "      <td>24</td>\n",
       "      <td>25</td>\n",
       "      <td>4</td>\n",
       "      <td>6</td>\n",
       "      <td>2</td>\n",
       "      <td>NaN</td>\n",
       "      <td>832</td>\n",
       "      <td>NaN</td>\n",
       "    </tr>\n",
       "    <tr>\n",
       "      <th>top</th>\n",
       "      <td>NaN</td>\n",
       "      <td>Spinner (Earth-616)</td>\n",
       "      <td>Secret Identity</td>\n",
       "      <td>Bad Characters</td>\n",
       "      <td>Blue Eyes</td>\n",
       "      <td>Black Hair</td>\n",
       "      <td>Male Characters</td>\n",
       "      <td>Homosexual Characters</td>\n",
       "      <td>Living Characters</td>\n",
       "      <td>NaN</td>\n",
       "      <td>Jun-92</td>\n",
       "      <td>NaN</td>\n",
       "    </tr>\n",
       "    <tr>\n",
       "      <th>freq</th>\n",
       "      <td>NaN</td>\n",
       "      <td>2</td>\n",
       "      <td>6275</td>\n",
       "      <td>6720</td>\n",
       "      <td>1962</td>\n",
       "      <td>3755</td>\n",
       "      <td>11638</td>\n",
       "      <td>66</td>\n",
       "      <td>12608</td>\n",
       "      <td>NaN</td>\n",
       "      <td>72</td>\n",
       "      <td>NaN</td>\n",
       "    </tr>\n",
       "    <tr>\n",
       "      <th>mean</th>\n",
       "      <td>300232.082377</td>\n",
       "      <td>NaN</td>\n",
       "      <td>NaN</td>\n",
       "      <td>NaN</td>\n",
       "      <td>NaN</td>\n",
       "      <td>NaN</td>\n",
       "      <td>NaN</td>\n",
       "      <td>NaN</td>\n",
       "      <td>NaN</td>\n",
       "      <td>17.033377</td>\n",
       "      <td>NaN</td>\n",
       "      <td>1984.951803</td>\n",
       "    </tr>\n",
       "    <tr>\n",
       "      <th>std</th>\n",
       "      <td>253460.403399</td>\n",
       "      <td>NaN</td>\n",
       "      <td>NaN</td>\n",
       "      <td>NaN</td>\n",
       "      <td>NaN</td>\n",
       "      <td>NaN</td>\n",
       "      <td>NaN</td>\n",
       "      <td>NaN</td>\n",
       "      <td>NaN</td>\n",
       "      <td>96.372959</td>\n",
       "      <td>NaN</td>\n",
       "      <td>19.663571</td>\n",
       "    </tr>\n",
       "    <tr>\n",
       "      <th>min</th>\n",
       "      <td>1025.000000</td>\n",
       "      <td>NaN</td>\n",
       "      <td>NaN</td>\n",
       "      <td>NaN</td>\n",
       "      <td>NaN</td>\n",
       "      <td>NaN</td>\n",
       "      <td>NaN</td>\n",
       "      <td>NaN</td>\n",
       "      <td>NaN</td>\n",
       "      <td>1.000000</td>\n",
       "      <td>NaN</td>\n",
       "      <td>1939.000000</td>\n",
       "    </tr>\n",
       "    <tr>\n",
       "      <th>25%</th>\n",
       "      <td>28309.500000</td>\n",
       "      <td>NaN</td>\n",
       "      <td>NaN</td>\n",
       "      <td>NaN</td>\n",
       "      <td>NaN</td>\n",
       "      <td>NaN</td>\n",
       "      <td>NaN</td>\n",
       "      <td>NaN</td>\n",
       "      <td>NaN</td>\n",
       "      <td>1.000000</td>\n",
       "      <td>NaN</td>\n",
       "      <td>1974.000000</td>\n",
       "    </tr>\n",
       "    <tr>\n",
       "      <th>50%</th>\n",
       "      <td>282578.000000</td>\n",
       "      <td>NaN</td>\n",
       "      <td>NaN</td>\n",
       "      <td>NaN</td>\n",
       "      <td>NaN</td>\n",
       "      <td>NaN</td>\n",
       "      <td>NaN</td>\n",
       "      <td>NaN</td>\n",
       "      <td>NaN</td>\n",
       "      <td>3.000000</td>\n",
       "      <td>NaN</td>\n",
       "      <td>1990.000000</td>\n",
       "    </tr>\n",
       "    <tr>\n",
       "      <th>75%</th>\n",
       "      <td>509077.000000</td>\n",
       "      <td>NaN</td>\n",
       "      <td>NaN</td>\n",
       "      <td>NaN</td>\n",
       "      <td>NaN</td>\n",
       "      <td>NaN</td>\n",
       "      <td>NaN</td>\n",
       "      <td>NaN</td>\n",
       "      <td>NaN</td>\n",
       "      <td>8.000000</td>\n",
       "      <td>NaN</td>\n",
       "      <td>2000.000000</td>\n",
       "    </tr>\n",
       "    <tr>\n",
       "      <th>max</th>\n",
       "      <td>755278.000000</td>\n",
       "      <td>NaN</td>\n",
       "      <td>NaN</td>\n",
       "      <td>NaN</td>\n",
       "      <td>NaN</td>\n",
       "      <td>NaN</td>\n",
       "      <td>NaN</td>\n",
       "      <td>NaN</td>\n",
       "      <td>NaN</td>\n",
       "      <td>4043.000000</td>\n",
       "      <td>NaN</td>\n",
       "      <td>2013.000000</td>\n",
       "    </tr>\n",
       "  </tbody>\n",
       "</table>\n",
       "</div>"
      ],
      "text/plain": [
       "              page_id                 name               ID           ALIGN  \\\n",
       "count    16376.000000                16376            12606           13564   \n",
       "unique            NaN                16375                4               3   \n",
       "top               NaN  Spinner (Earth-616)  Secret Identity  Bad Characters   \n",
       "freq              NaN                    2             6275            6720   \n",
       "mean    300232.082377                  NaN              NaN             NaN   \n",
       "std     253460.403399                  NaN              NaN             NaN   \n",
       "min       1025.000000                  NaN              NaN             NaN   \n",
       "25%      28309.500000                  NaN              NaN             NaN   \n",
       "50%     282578.000000                  NaN              NaN             NaN   \n",
       "75%     509077.000000                  NaN              NaN             NaN   \n",
       "max     755278.000000                  NaN              NaN             NaN   \n",
       "\n",
       "              EYE        HAIR              SEX                    GSM  \\\n",
       "count        6609       12112            15522                     90   \n",
       "unique         24          25                4                      6   \n",
       "top     Blue Eyes  Black Hair  Male Characters  Homosexual Characters   \n",
       "freq         1962        3755            11638                     66   \n",
       "mean          NaN         NaN              NaN                    NaN   \n",
       "std           NaN         NaN              NaN                    NaN   \n",
       "min           NaN         NaN              NaN                    NaN   \n",
       "25%           NaN         NaN              NaN                    NaN   \n",
       "50%           NaN         NaN              NaN                    NaN   \n",
       "75%           NaN         NaN              NaN                    NaN   \n",
       "max           NaN         NaN              NaN                    NaN   \n",
       "\n",
       "                    ALIVE   APPEARANCES FIRST APPEARANCE          Year  \n",
       "count               16373  15280.000000            15561  15561.000000  \n",
       "unique                  2           NaN              832           NaN  \n",
       "top     Living Characters           NaN           Jun-92           NaN  \n",
       "freq                12608           NaN               72           NaN  \n",
       "mean                  NaN     17.033377              NaN   1984.951803  \n",
       "std                   NaN     96.372959              NaN     19.663571  \n",
       "min                   NaN      1.000000              NaN   1939.000000  \n",
       "25%                   NaN      1.000000              NaN   1974.000000  \n",
       "50%                   NaN      3.000000              NaN   1990.000000  \n",
       "75%                   NaN      8.000000              NaN   2000.000000  \n",
       "max                   NaN   4043.000000              NaN   2013.000000  "
      ]
     },
     "execution_count": 66,
     "metadata": {},
     "output_type": "execute_result"
    }
   ],
   "source": [
    "df.describe(include='all') #This will include all features"
   ]
  },
  {
   "cell_type": "markdown",
   "metadata": {},
   "source": [
    "#### Show column summary"
   ]
  },
  {
   "cell_type": "code",
   "execution_count": 67,
   "metadata": {},
   "outputs": [
    {
     "name": "stdout",
     "output_type": "stream",
     "text": [
      "<class 'pandas.core.frame.DataFrame'>\n",
      "RangeIndex: 16376 entries, 0 to 16375\n",
      "Data columns (total 12 columns):\n",
      " #   Column            Non-Null Count  Dtype  \n",
      "---  ------            --------------  -----  \n",
      " 0   page_id           16376 non-null  int64  \n",
      " 1   name              16376 non-null  object \n",
      " 2   ID                12606 non-null  object \n",
      " 3   ALIGN             13564 non-null  object \n",
      " 4   EYE               6609 non-null   object \n",
      " 5   HAIR              12112 non-null  object \n",
      " 6   SEX               15522 non-null  object \n",
      " 7   GSM               90 non-null     object \n",
      " 8   ALIVE             16373 non-null  object \n",
      " 9   APPEARANCES       15280 non-null  float64\n",
      " 10  FIRST APPEARANCE  15561 non-null  object \n",
      " 11  Year              15561 non-null  float64\n",
      "dtypes: float64(2), int64(1), object(9)\n",
      "memory usage: 1.5+ MB\n"
     ]
    }
   ],
   "source": [
    "df.info()"
   ]
  },
  {
   "cell_type": "markdown",
   "metadata": {},
   "source": [
    "#### Show dataset size"
   ]
  },
  {
   "cell_type": "code",
   "execution_count": 68,
   "metadata": {},
   "outputs": [
    {
     "data": {
      "text/plain": [
       "(16376, 12)"
      ]
     },
     "execution_count": 68,
     "metadata": {},
     "output_type": "execute_result"
    }
   ],
   "source": [
    "df.shape"
   ]
  },
  {
   "cell_type": "markdown",
   "metadata": {},
   "source": [
    "### Inspect Columns"
   ]
  },
  {
   "cell_type": "markdown",
   "metadata": {},
   "source": [
    "#### Set index"
   ]
  },
  {
   "cell_type": "code",
   "execution_count": 69,
   "metadata": {},
   "outputs": [],
   "source": [
    "df.set_index('ID', inplace=True)"
   ]
  },
  {
   "cell_type": "code",
   "execution_count": 70,
   "metadata": {},
   "outputs": [
    {
     "data": {
      "text/html": [
       "<div>\n",
       "<style scoped>\n",
       "    .dataframe tbody tr th:only-of-type {\n",
       "        vertical-align: middle;\n",
       "    }\n",
       "\n",
       "    .dataframe tbody tr th {\n",
       "        vertical-align: top;\n",
       "    }\n",
       "\n",
       "    .dataframe thead th {\n",
       "        text-align: right;\n",
       "    }\n",
       "</style>\n",
       "<table border=\"1\" class=\"dataframe\">\n",
       "  <thead>\n",
       "    <tr style=\"text-align: right;\">\n",
       "      <th></th>\n",
       "      <th>page_id</th>\n",
       "      <th>name</th>\n",
       "      <th>ALIGN</th>\n",
       "      <th>EYE</th>\n",
       "      <th>HAIR</th>\n",
       "      <th>SEX</th>\n",
       "      <th>GSM</th>\n",
       "      <th>ALIVE</th>\n",
       "      <th>APPEARANCES</th>\n",
       "      <th>FIRST APPEARANCE</th>\n",
       "      <th>Year</th>\n",
       "    </tr>\n",
       "    <tr>\n",
       "      <th>ID</th>\n",
       "      <th></th>\n",
       "      <th></th>\n",
       "      <th></th>\n",
       "      <th></th>\n",
       "      <th></th>\n",
       "      <th></th>\n",
       "      <th></th>\n",
       "      <th></th>\n",
       "      <th></th>\n",
       "      <th></th>\n",
       "      <th></th>\n",
       "    </tr>\n",
       "  </thead>\n",
       "  <tbody>\n",
       "    <tr>\n",
       "      <th>Secret Identity</th>\n",
       "      <td>1678</td>\n",
       "      <td>Spider-Man (Peter Parker)</td>\n",
       "      <td>Good Characters</td>\n",
       "      <td>Hazel Eyes</td>\n",
       "      <td>Brown Hair</td>\n",
       "      <td>Male Characters</td>\n",
       "      <td>NaN</td>\n",
       "      <td>Living Characters</td>\n",
       "      <td>4043.0</td>\n",
       "      <td>Aug-62</td>\n",
       "      <td>1962.0</td>\n",
       "    </tr>\n",
       "    <tr>\n",
       "      <th>Public Identity</th>\n",
       "      <td>7139</td>\n",
       "      <td>Captain America (Steven Rogers)</td>\n",
       "      <td>Good Characters</td>\n",
       "      <td>Blue Eyes</td>\n",
       "      <td>White Hair</td>\n",
       "      <td>Male Characters</td>\n",
       "      <td>NaN</td>\n",
       "      <td>Living Characters</td>\n",
       "      <td>3360.0</td>\n",
       "      <td>Mar-41</td>\n",
       "      <td>1941.0</td>\n",
       "    </tr>\n",
       "    <tr>\n",
       "      <th>Public Identity</th>\n",
       "      <td>64786</td>\n",
       "      <td>Wolverine (James \\\"Logan\\\" Howlett)</td>\n",
       "      <td>Neutral Characters</td>\n",
       "      <td>Blue Eyes</td>\n",
       "      <td>Black Hair</td>\n",
       "      <td>Male Characters</td>\n",
       "      <td>NaN</td>\n",
       "      <td>Living Characters</td>\n",
       "      <td>3061.0</td>\n",
       "      <td>Oct-74</td>\n",
       "      <td>1974.0</td>\n",
       "    </tr>\n",
       "    <tr>\n",
       "      <th>Public Identity</th>\n",
       "      <td>1868</td>\n",
       "      <td>Iron Man (Anthony \\\"Tony\\\" Stark)</td>\n",
       "      <td>Good Characters</td>\n",
       "      <td>Blue Eyes</td>\n",
       "      <td>Black Hair</td>\n",
       "      <td>Male Characters</td>\n",
       "      <td>NaN</td>\n",
       "      <td>Living Characters</td>\n",
       "      <td>2961.0</td>\n",
       "      <td>Mar-63</td>\n",
       "      <td>1963.0</td>\n",
       "    </tr>\n",
       "    <tr>\n",
       "      <th>No Dual Identity</th>\n",
       "      <td>2460</td>\n",
       "      <td>Thor (Thor Odinson)</td>\n",
       "      <td>Good Characters</td>\n",
       "      <td>Blue Eyes</td>\n",
       "      <td>Blond Hair</td>\n",
       "      <td>Male Characters</td>\n",
       "      <td>NaN</td>\n",
       "      <td>Living Characters</td>\n",
       "      <td>2258.0</td>\n",
       "      <td>Nov-50</td>\n",
       "      <td>1950.0</td>\n",
       "    </tr>\n",
       "  </tbody>\n",
       "</table>\n",
       "</div>"
      ],
      "text/plain": [
       "                  page_id                                 name  \\\n",
       "ID                                                               \n",
       "Secret Identity      1678            Spider-Man (Peter Parker)   \n",
       "Public Identity      7139      Captain America (Steven Rogers)   \n",
       "Public Identity     64786  Wolverine (James \\\"Logan\\\" Howlett)   \n",
       "Public Identity      1868    Iron Man (Anthony \\\"Tony\\\" Stark)   \n",
       "No Dual Identity     2460                  Thor (Thor Odinson)   \n",
       "\n",
       "                               ALIGN         EYE        HAIR              SEX  \\\n",
       "ID                                                                              \n",
       "Secret Identity      Good Characters  Hazel Eyes  Brown Hair  Male Characters   \n",
       "Public Identity      Good Characters   Blue Eyes  White Hair  Male Characters   \n",
       "Public Identity   Neutral Characters   Blue Eyes  Black Hair  Male Characters   \n",
       "Public Identity      Good Characters   Blue Eyes  Black Hair  Male Characters   \n",
       "No Dual Identity     Good Characters   Blue Eyes  Blond Hair  Male Characters   \n",
       "\n",
       "                  GSM              ALIVE  APPEARANCES FIRST APPEARANCE    Year  \n",
       "ID                                                                              \n",
       "Secret Identity   NaN  Living Characters       4043.0           Aug-62  1962.0  \n",
       "Public Identity   NaN  Living Characters       3360.0           Mar-41  1941.0  \n",
       "Public Identity   NaN  Living Characters       3061.0           Oct-74  1974.0  \n",
       "Public Identity   NaN  Living Characters       2961.0           Mar-63  1963.0  \n",
       "No Dual Identity  NaN  Living Characters       2258.0           Nov-50  1950.0  "
      ]
     },
     "execution_count": 70,
     "metadata": {},
     "output_type": "execute_result"
    }
   ],
   "source": [
    "df.head()"
   ]
  },
  {
   "cell_type": "markdown",
   "metadata": {},
   "source": [
    "#### Show counts of categorical columns"
   ]
  },
  {
   "cell_type": "code",
   "execution_count": 71,
   "metadata": {},
   "outputs": [
    {
     "data": {
      "text/plain": [
       "Black Hair               3755\n",
       "Brown Hair               2339\n",
       "Blond Hair               1582\n",
       "No Hair                  1176\n",
       "Bald                      838\n",
       "White Hair                754\n",
       "Red Hair                  620\n",
       "Grey Hair                 531\n",
       "Green Hair                117\n",
       "Auburn Hair                78\n",
       "Blue Hair                  56\n",
       "Strawberry Blond Hair      47\n",
       "Purple Hair                47\n",
       "Orange Hair                43\n",
       "Variable Hair              32\n",
       "Pink Hair                  31\n",
       "Yellow Hair                20\n",
       "Silver Hair                16\n",
       "Gold Hair                   8\n",
       "Reddish Blond Hair          6\n",
       "Light Brown Hair            6\n",
       "Magenta Hair                5\n",
       "Orange-brown Hair           3\n",
       "Bronze Hair                 1\n",
       "Dyed Hair                   1\n",
       "Name: HAIR, dtype: int64"
      ]
     },
     "execution_count": 71,
     "metadata": {},
     "output_type": "execute_result"
    }
   ],
   "source": [
    "df['HAIR'].value_counts()"
   ]
  },
  {
   "cell_type": "code",
   "execution_count": 72,
   "metadata": {},
   "outputs": [
    {
     "data": {
      "text/plain": [
       "Living Characters      12608\n",
       "Deceased Characters     3765\n",
       "Name: ALIVE, dtype: int64"
      ]
     },
     "execution_count": 72,
     "metadata": {},
     "output_type": "execute_result"
    }
   ],
   "source": [
    "df.ALIVE.value_counts()"
   ]
  },
  {
   "cell_type": "markdown",
   "metadata": {},
   "source": [
    "#### Show unique values per category"
   ]
  },
  {
   "cell_type": "code",
   "execution_count": 73,
   "metadata": {},
   "outputs": [
    {
     "data": {
      "text/plain": [
       "array([nan, 'Bisexual Characters', 'Transvestites',\n",
       "       'Homosexual Characters', 'Pansexual Characters',\n",
       "       'Transgender Characters', 'Genderfluid Characters'], dtype=object)"
      ]
     },
     "execution_count": 73,
     "metadata": {},
     "output_type": "execute_result"
    }
   ],
   "source": [
    "df.GSM.unique()"
   ]
  },
  {
   "cell_type": "markdown",
   "metadata": {},
   "source": [
    "#### Show column stats"
   ]
  },
  {
   "cell_type": "code",
   "execution_count": 74,
   "metadata": {},
   "outputs": [
    {
     "data": {
      "text/plain": [
       "4043.0"
      ]
     },
     "execution_count": 74,
     "metadata": {},
     "output_type": "execute_result"
    }
   ],
   "source": [
    "df.APPEARANCES.max()"
   ]
  },
  {
   "cell_type": "code",
   "execution_count": 75,
   "metadata": {},
   "outputs": [
    {
     "data": {
      "text/plain": [
       "17.033376963350786"
      ]
     },
     "execution_count": 75,
     "metadata": {},
     "output_type": "execute_result"
    }
   ],
   "source": [
    "df.APPEARANCES.mean()"
   ]
  },
  {
   "cell_type": "markdown",
   "metadata": {},
   "source": [
    "## Selection & Slicing"
   ]
  },
  {
   "cell_type": "markdown",
   "metadata": {},
   "source": [
    "#### Slice by Column Name"
   ]
  },
  {
   "cell_type": "code",
   "execution_count": 76,
   "metadata": {},
   "outputs": [
    {
     "data": {
      "text/html": [
       "<div>\n",
       "<style scoped>\n",
       "    .dataframe tbody tr th:only-of-type {\n",
       "        vertical-align: middle;\n",
       "    }\n",
       "\n",
       "    .dataframe tbody tr th {\n",
       "        vertical-align: top;\n",
       "    }\n",
       "\n",
       "    .dataframe thead th {\n",
       "        text-align: right;\n",
       "    }\n",
       "</style>\n",
       "<table border=\"1\" class=\"dataframe\">\n",
       "  <thead>\n",
       "    <tr style=\"text-align: right;\">\n",
       "      <th></th>\n",
       "      <th>name</th>\n",
       "      <th>SEX</th>\n",
       "      <th>Year</th>\n",
       "    </tr>\n",
       "    <tr>\n",
       "      <th>ID</th>\n",
       "      <th></th>\n",
       "      <th></th>\n",
       "      <th></th>\n",
       "    </tr>\n",
       "  </thead>\n",
       "  <tbody>\n",
       "    <tr>\n",
       "      <th>Secret Identity</th>\n",
       "      <td>Spider-Man (Peter Parker)</td>\n",
       "      <td>Male Characters</td>\n",
       "      <td>1962.0</td>\n",
       "    </tr>\n",
       "    <tr>\n",
       "      <th>Public Identity</th>\n",
       "      <td>Captain America (Steven Rogers)</td>\n",
       "      <td>Male Characters</td>\n",
       "      <td>1941.0</td>\n",
       "    </tr>\n",
       "    <tr>\n",
       "      <th>Public Identity</th>\n",
       "      <td>Wolverine (James \\\"Logan\\\" Howlett)</td>\n",
       "      <td>Male Characters</td>\n",
       "      <td>1974.0</td>\n",
       "    </tr>\n",
       "    <tr>\n",
       "      <th>Public Identity</th>\n",
       "      <td>Iron Man (Anthony \\\"Tony\\\" Stark)</td>\n",
       "      <td>Male Characters</td>\n",
       "      <td>1963.0</td>\n",
       "    </tr>\n",
       "    <tr>\n",
       "      <th>No Dual Identity</th>\n",
       "      <td>Thor (Thor Odinson)</td>\n",
       "      <td>Male Characters</td>\n",
       "      <td>1950.0</td>\n",
       "    </tr>\n",
       "  </tbody>\n",
       "</table>\n",
       "</div>"
      ],
      "text/plain": [
       "                                                 name              SEX    Year\n",
       "ID                                                                            \n",
       "Secret Identity             Spider-Man (Peter Parker)  Male Characters  1962.0\n",
       "Public Identity       Captain America (Steven Rogers)  Male Characters  1941.0\n",
       "Public Identity   Wolverine (James \\\"Logan\\\" Howlett)  Male Characters  1974.0\n",
       "Public Identity     Iron Man (Anthony \\\"Tony\\\" Stark)  Male Characters  1963.0\n",
       "No Dual Identity                  Thor (Thor Odinson)  Male Characters  1950.0"
      ]
     },
     "execution_count": 76,
     "metadata": {},
     "output_type": "execute_result"
    }
   ],
   "source": [
    "df[['name','SEX','Year']].head()"
   ]
  },
  {
   "cell_type": "markdown",
   "metadata": {},
   "source": [
    "#### Slice by index"
   ]
  },
  {
   "cell_type": "code",
   "execution_count": 78,
   "metadata": {},
   "outputs": [
    {
     "data": {
      "text/html": [
       "<div>\n",
       "<style scoped>\n",
       "    .dataframe tbody tr th:only-of-type {\n",
       "        vertical-align: middle;\n",
       "    }\n",
       "\n",
       "    .dataframe tbody tr th {\n",
       "        vertical-align: top;\n",
       "    }\n",
       "\n",
       "    .dataframe thead th {\n",
       "        text-align: right;\n",
       "    }\n",
       "</style>\n",
       "<table border=\"1\" class=\"dataframe\">\n",
       "  <thead>\n",
       "    <tr style=\"text-align: right;\">\n",
       "      <th></th>\n",
       "      <th>page_id</th>\n",
       "      <th>name</th>\n",
       "      <th>ALIGN</th>\n",
       "      <th>EYE</th>\n",
       "      <th>HAIR</th>\n",
       "      <th>SEX</th>\n",
       "      <th>GSM</th>\n",
       "      <th>ALIVE</th>\n",
       "      <th>APPEARANCES</th>\n",
       "      <th>FIRST APPEARANCE</th>\n",
       "      <th>Year</th>\n",
       "    </tr>\n",
       "    <tr>\n",
       "      <th>ID</th>\n",
       "      <th></th>\n",
       "      <th></th>\n",
       "      <th></th>\n",
       "      <th></th>\n",
       "      <th></th>\n",
       "      <th></th>\n",
       "      <th></th>\n",
       "      <th></th>\n",
       "      <th></th>\n",
       "      <th></th>\n",
       "      <th></th>\n",
       "    </tr>\n",
       "  </thead>\n",
       "  <tbody>\n",
       "    <tr>\n",
       "      <th>Secret Identity</th>\n",
       "      <td>26582</td>\n",
       "      <td>Samuel Caulkin (Earth-616)</td>\n",
       "      <td>Good Characters</td>\n",
       "      <td>NaN</td>\n",
       "      <td>Brown Hair</td>\n",
       "      <td>Male Characters</td>\n",
       "      <td>NaN</td>\n",
       "      <td>Living Characters</td>\n",
       "      <td>22.0</td>\n",
       "      <td>Mar-93</td>\n",
       "      <td>1993.0</td>\n",
       "    </tr>\n",
       "    <tr>\n",
       "      <th>Secret Identity</th>\n",
       "      <td>4367</td>\n",
       "      <td>Dominic Destine (Earth-616)</td>\n",
       "      <td>Good Characters</td>\n",
       "      <td>NaN</td>\n",
       "      <td>Red Hair</td>\n",
       "      <td>Male Characters</td>\n",
       "      <td>NaN</td>\n",
       "      <td>Living Characters</td>\n",
       "      <td>22.0</td>\n",
       "      <td>Jul-94</td>\n",
       "      <td>1994.0</td>\n",
       "    </tr>\n",
       "    <tr>\n",
       "      <th>Secret Identity</th>\n",
       "      <td>4017</td>\n",
       "      <td>Jasmine Destine (Earth-616)</td>\n",
       "      <td>Good Characters</td>\n",
       "      <td>Brown Eyes</td>\n",
       "      <td>Black Hair</td>\n",
       "      <td>Female Characters</td>\n",
       "      <td>NaN</td>\n",
       "      <td>Living Characters</td>\n",
       "      <td>22.0</td>\n",
       "      <td>Jul-94</td>\n",
       "      <td>1994.0</td>\n",
       "    </tr>\n",
       "    <tr>\n",
       "      <th>Secret Identity</th>\n",
       "      <td>120090</td>\n",
       "      <td>Paradox (Strange) (Earth-616)</td>\n",
       "      <td>Good Characters</td>\n",
       "      <td>White Eyes</td>\n",
       "      <td>No Hair</td>\n",
       "      <td>Male Characters</td>\n",
       "      <td>NaN</td>\n",
       "      <td>Living Characters</td>\n",
       "      <td>22.0</td>\n",
       "      <td>Jan-94</td>\n",
       "      <td>1994.0</td>\n",
       "    </tr>\n",
       "    <tr>\n",
       "      <th>Secret Identity</th>\n",
       "      <td>25097</td>\n",
       "      <td>Gregory Herd (Earth-616)</td>\n",
       "      <td>Neutral Characters</td>\n",
       "      <td>Blue Eyes</td>\n",
       "      <td>Black Hair</td>\n",
       "      <td>Male Characters</td>\n",
       "      <td>NaN</td>\n",
       "      <td>Living Characters</td>\n",
       "      <td>22.0</td>\n",
       "      <td>Nov-95</td>\n",
       "      <td>1995.0</td>\n",
       "    </tr>\n",
       "    <tr>\n",
       "      <th>...</th>\n",
       "      <td>...</td>\n",
       "      <td>...</td>\n",
       "      <td>...</td>\n",
       "      <td>...</td>\n",
       "      <td>...</td>\n",
       "      <td>...</td>\n",
       "      <td>...</td>\n",
       "      <td>...</td>\n",
       "      <td>...</td>\n",
       "      <td>...</td>\n",
       "      <td>...</td>\n",
       "    </tr>\n",
       "    <tr>\n",
       "      <th>Secret Identity</th>\n",
       "      <td>1086</td>\n",
       "      <td>Darren Bentley (Earth-616)</td>\n",
       "      <td>Bad Characters</td>\n",
       "      <td>NaN</td>\n",
       "      <td>NaN</td>\n",
       "      <td>Male Characters</td>\n",
       "      <td>NaN</td>\n",
       "      <td>Deceased Characters</td>\n",
       "      <td>19.0</td>\n",
       "      <td>Jan-70</td>\n",
       "      <td>1970.0</td>\n",
       "    </tr>\n",
       "    <tr>\n",
       "      <th>No Dual Identity</th>\n",
       "      <td>626764</td>\n",
       "      <td>Jenna (Earth-616)</td>\n",
       "      <td>Neutral Characters</td>\n",
       "      <td>Blue Eyes</td>\n",
       "      <td>Blond Hair</td>\n",
       "      <td>Female Characters</td>\n",
       "      <td>NaN</td>\n",
       "      <td>Living Characters</td>\n",
       "      <td>19.0</td>\n",
       "      <td>Jun-71</td>\n",
       "      <td>1971.0</td>\n",
       "    </tr>\n",
       "    <tr>\n",
       "      <th>No Dual Identity</th>\n",
       "      <td>17090</td>\n",
       "      <td>Kulan Gath (Earth-616)</td>\n",
       "      <td>Bad Characters</td>\n",
       "      <td>NaN</td>\n",
       "      <td>NaN</td>\n",
       "      <td>Male Characters</td>\n",
       "      <td>NaN</td>\n",
       "      <td>Living Characters</td>\n",
       "      <td>19.0</td>\n",
       "      <td>Mar-72</td>\n",
       "      <td>1972.0</td>\n",
       "    </tr>\n",
       "    <tr>\n",
       "      <th>Public Identity</th>\n",
       "      <td>15914</td>\n",
       "      <td>Patricia Starr (Earth-616)</td>\n",
       "      <td>Good Characters</td>\n",
       "      <td>Blue Eyes</td>\n",
       "      <td>Blond Hair</td>\n",
       "      <td>Female Characters</td>\n",
       "      <td>NaN</td>\n",
       "      <td>Living Characters</td>\n",
       "      <td>19.0</td>\n",
       "      <td>Sep-72</td>\n",
       "      <td>1972.0</td>\n",
       "    </tr>\n",
       "    <tr>\n",
       "      <th>Secret Identity</th>\n",
       "      <td>43337</td>\n",
       "      <td>Thulsa Doom (Earth-616)</td>\n",
       "      <td>Bad Characters</td>\n",
       "      <td>Blue Eyes</td>\n",
       "      <td>White Hair</td>\n",
       "      <td>Male Characters</td>\n",
       "      <td>NaN</td>\n",
       "      <td>Living Characters</td>\n",
       "      <td>19.0</td>\n",
       "      <td>Apr-72</td>\n",
       "      <td>1972.0</td>\n",
       "    </tr>\n",
       "  </tbody>\n",
       "</table>\n",
       "<p>190 rows × 11 columns</p>\n",
       "</div>"
      ],
      "text/plain": [
       "                  page_id                           name               ALIGN  \\\n",
       "ID                                                                             \n",
       "Secret Identity     26582     Samuel Caulkin (Earth-616)     Good Characters   \n",
       "Secret Identity      4367    Dominic Destine (Earth-616)     Good Characters   \n",
       "Secret Identity      4017    Jasmine Destine (Earth-616)     Good Characters   \n",
       "Secret Identity    120090  Paradox (Strange) (Earth-616)     Good Characters   \n",
       "Secret Identity     25097       Gregory Herd (Earth-616)  Neutral Characters   \n",
       "...                   ...                            ...                 ...   \n",
       "Secret Identity      1086     Darren Bentley (Earth-616)      Bad Characters   \n",
       "No Dual Identity   626764              Jenna (Earth-616)  Neutral Characters   \n",
       "No Dual Identity    17090         Kulan Gath (Earth-616)      Bad Characters   \n",
       "Public Identity     15914     Patricia Starr (Earth-616)     Good Characters   \n",
       "Secret Identity     43337        Thulsa Doom (Earth-616)      Bad Characters   \n",
       "\n",
       "                         EYE        HAIR                SEX  GSM  \\\n",
       "ID                                                                 \n",
       "Secret Identity          NaN  Brown Hair    Male Characters  NaN   \n",
       "Secret Identity          NaN    Red Hair    Male Characters  NaN   \n",
       "Secret Identity   Brown Eyes  Black Hair  Female Characters  NaN   \n",
       "Secret Identity   White Eyes     No Hair    Male Characters  NaN   \n",
       "Secret Identity    Blue Eyes  Black Hair    Male Characters  NaN   \n",
       "...                      ...         ...                ...  ...   \n",
       "Secret Identity          NaN         NaN    Male Characters  NaN   \n",
       "No Dual Identity   Blue Eyes  Blond Hair  Female Characters  NaN   \n",
       "No Dual Identity         NaN         NaN    Male Characters  NaN   \n",
       "Public Identity    Blue Eyes  Blond Hair  Female Characters  NaN   \n",
       "Secret Identity    Blue Eyes  White Hair    Male Characters  NaN   \n",
       "\n",
       "                                ALIVE  APPEARANCES FIRST APPEARANCE    Year  \n",
       "ID                                                                           \n",
       "Secret Identity     Living Characters         22.0           Mar-93  1993.0  \n",
       "Secret Identity     Living Characters         22.0           Jul-94  1994.0  \n",
       "Secret Identity     Living Characters         22.0           Jul-94  1994.0  \n",
       "Secret Identity     Living Characters         22.0           Jan-94  1994.0  \n",
       "Secret Identity     Living Characters         22.0           Nov-95  1995.0  \n",
       "...                               ...          ...              ...     ...  \n",
       "Secret Identity   Deceased Characters         19.0           Jan-70  1970.0  \n",
       "No Dual Identity    Living Characters         19.0           Jun-71  1971.0  \n",
       "No Dual Identity    Living Characters         19.0           Mar-72  1972.0  \n",
       "Public Identity     Living Characters         19.0           Sep-72  1972.0  \n",
       "Secret Identity     Living Characters         19.0           Apr-72  1972.0  \n",
       "\n",
       "[190 rows x 11 columns]"
      ]
     },
     "execution_count": 78,
     "metadata": {},
     "output_type": "execute_result"
    }
   ],
   "source": [
    "df.iloc[1678:1868]"
   ]
  },
  {
   "cell_type": "markdown",
   "metadata": {},
   "source": [
    "#### Slice by index & column"
   ]
  },
  {
   "cell_type": "code",
   "execution_count": 90,
   "metadata": {},
   "outputs": [
    {
     "data": {
      "text/plain": [
       "(                  page_id                           name               ALIGN  \\\n",
       " ID                                                                             \n",
       " Secret Identity     26582     Samuel Caulkin (Earth-616)     Good Characters   \n",
       " Secret Identity      4367    Dominic Destine (Earth-616)     Good Characters   \n",
       " Secret Identity      4017    Jasmine Destine (Earth-616)     Good Characters   \n",
       " Secret Identity    120090  Paradox (Strange) (Earth-616)     Good Characters   \n",
       " Secret Identity     25097       Gregory Herd (Earth-616)  Neutral Characters   \n",
       " ...                   ...                            ...                 ...   \n",
       " Secret Identity      1086     Darren Bentley (Earth-616)      Bad Characters   \n",
       " No Dual Identity   626764              Jenna (Earth-616)  Neutral Characters   \n",
       " No Dual Identity    17090         Kulan Gath (Earth-616)      Bad Characters   \n",
       " Public Identity     15914     Patricia Starr (Earth-616)     Good Characters   \n",
       " Secret Identity     43337        Thulsa Doom (Earth-616)      Bad Characters   \n",
       " \n",
       "                          EYE        HAIR                SEX  GSM  \\\n",
       " ID                                                                 \n",
       " Secret Identity          NaN  Brown Hair    Male Characters  NaN   \n",
       " Secret Identity          NaN    Red Hair    Male Characters  NaN   \n",
       " Secret Identity   Brown Eyes  Black Hair  Female Characters  NaN   \n",
       " Secret Identity   White Eyes     No Hair    Male Characters  NaN   \n",
       " Secret Identity    Blue Eyes  Black Hair    Male Characters  NaN   \n",
       " ...                      ...         ...                ...  ...   \n",
       " Secret Identity          NaN         NaN    Male Characters  NaN   \n",
       " No Dual Identity   Blue Eyes  Blond Hair  Female Characters  NaN   \n",
       " No Dual Identity         NaN         NaN    Male Characters  NaN   \n",
       " Public Identity    Blue Eyes  Blond Hair  Female Characters  NaN   \n",
       " Secret Identity    Blue Eyes  White Hair    Male Characters  NaN   \n",
       " \n",
       "                                 ALIVE  APPEARANCES FIRST APPEARANCE    Year  \n",
       " ID                                                                           \n",
       " Secret Identity     Living Characters         22.0           Mar-93  1993.0  \n",
       " Secret Identity     Living Characters         22.0           Jul-94  1994.0  \n",
       " Secret Identity     Living Characters         22.0           Jul-94  1994.0  \n",
       " Secret Identity     Living Characters         22.0           Jan-94  1994.0  \n",
       " Secret Identity     Living Characters         22.0           Nov-95  1995.0  \n",
       " ...                               ...          ...              ...     ...  \n",
       " Secret Identity   Deceased Characters         19.0           Jan-70  1970.0  \n",
       " No Dual Identity    Living Characters         19.0           Jun-71  1971.0  \n",
       " No Dual Identity    Living Characters         19.0           Mar-72  1972.0  \n",
       " Public Identity     Living Characters         19.0           Sep-72  1972.0  \n",
       " Secret Identity     Living Characters         19.0           Apr-72  1972.0  \n",
       " \n",
       " [190 rows x 11 columns],\n",
       " ['name', 'SEX', 'Year'])"
      ]
     },
     "execution_count": 90,
     "metadata": {},
     "output_type": "execute_result"
    }
   ],
   "source": [
    "df.iloc[1678:1868],['name','SEX','Year']"
   ]
  },
  {
   "cell_type": "markdown",
   "metadata": {},
   "source": [
    "#### Slice by row number"
   ]
  },
  {
   "cell_type": "code",
   "execution_count": 91,
   "metadata": {},
   "outputs": [
    {
     "data": {
      "text/html": [
       "<div>\n",
       "<style scoped>\n",
       "    .dataframe tbody tr th:only-of-type {\n",
       "        vertical-align: middle;\n",
       "    }\n",
       "\n",
       "    .dataframe tbody tr th {\n",
       "        vertical-align: top;\n",
       "    }\n",
       "\n",
       "    .dataframe thead th {\n",
       "        text-align: right;\n",
       "    }\n",
       "</style>\n",
       "<table border=\"1\" class=\"dataframe\">\n",
       "  <thead>\n",
       "    <tr style=\"text-align: right;\">\n",
       "      <th></th>\n",
       "      <th>page_id</th>\n",
       "      <th>name</th>\n",
       "      <th>ALIGN</th>\n",
       "      <th>EYE</th>\n",
       "      <th>HAIR</th>\n",
       "      <th>SEX</th>\n",
       "      <th>GSM</th>\n",
       "      <th>ALIVE</th>\n",
       "      <th>APPEARANCES</th>\n",
       "      <th>FIRST APPEARANCE</th>\n",
       "      <th>Year</th>\n",
       "    </tr>\n",
       "    <tr>\n",
       "      <th>ID</th>\n",
       "      <th></th>\n",
       "      <th></th>\n",
       "      <th></th>\n",
       "      <th></th>\n",
       "      <th></th>\n",
       "      <th></th>\n",
       "      <th></th>\n",
       "      <th></th>\n",
       "      <th></th>\n",
       "      <th></th>\n",
       "      <th></th>\n",
       "    </tr>\n",
       "  </thead>\n",
       "  <tbody>\n",
       "    <tr>\n",
       "      <th>Public Identity</th>\n",
       "      <td>7139</td>\n",
       "      <td>Captain America (Steven Rogers)</td>\n",
       "      <td>Good Characters</td>\n",
       "      <td>Blue Eyes</td>\n",
       "      <td>White Hair</td>\n",
       "      <td>Male Characters</td>\n",
       "      <td>NaN</td>\n",
       "      <td>Living Characters</td>\n",
       "      <td>3360.0</td>\n",
       "      <td>Mar-41</td>\n",
       "      <td>1941.0</td>\n",
       "    </tr>\n",
       "    <tr>\n",
       "      <th>Public Identity</th>\n",
       "      <td>64786</td>\n",
       "      <td>Wolverine (James \\\"Logan\\\" Howlett)</td>\n",
       "      <td>Neutral Characters</td>\n",
       "      <td>Blue Eyes</td>\n",
       "      <td>Black Hair</td>\n",
       "      <td>Male Characters</td>\n",
       "      <td>NaN</td>\n",
       "      <td>Living Characters</td>\n",
       "      <td>3061.0</td>\n",
       "      <td>Oct-74</td>\n",
       "      <td>1974.0</td>\n",
       "    </tr>\n",
       "    <tr>\n",
       "      <th>Public Identity</th>\n",
       "      <td>1868</td>\n",
       "      <td>Iron Man (Anthony \\\"Tony\\\" Stark)</td>\n",
       "      <td>Good Characters</td>\n",
       "      <td>Blue Eyes</td>\n",
       "      <td>Black Hair</td>\n",
       "      <td>Male Characters</td>\n",
       "      <td>NaN</td>\n",
       "      <td>Living Characters</td>\n",
       "      <td>2961.0</td>\n",
       "      <td>Mar-63</td>\n",
       "      <td>1963.0</td>\n",
       "    </tr>\n",
       "    <tr>\n",
       "      <th>No Dual Identity</th>\n",
       "      <td>2460</td>\n",
       "      <td>Thor (Thor Odinson)</td>\n",
       "      <td>Good Characters</td>\n",
       "      <td>Blue Eyes</td>\n",
       "      <td>Blond Hair</td>\n",
       "      <td>Male Characters</td>\n",
       "      <td>NaN</td>\n",
       "      <td>Living Characters</td>\n",
       "      <td>2258.0</td>\n",
       "      <td>Nov-50</td>\n",
       "      <td>1950.0</td>\n",
       "    </tr>\n",
       "    <tr>\n",
       "      <th>Public Identity</th>\n",
       "      <td>2458</td>\n",
       "      <td>Benjamin Grimm (Earth-616)</td>\n",
       "      <td>Good Characters</td>\n",
       "      <td>Blue Eyes</td>\n",
       "      <td>No Hair</td>\n",
       "      <td>Male Characters</td>\n",
       "      <td>NaN</td>\n",
       "      <td>Living Characters</td>\n",
       "      <td>2255.0</td>\n",
       "      <td>Nov-61</td>\n",
       "      <td>1961.0</td>\n",
       "    </tr>\n",
       "  </tbody>\n",
       "</table>\n",
       "</div>"
      ],
      "text/plain": [
       "                  page_id                                 name  \\\n",
       "ID                                                               \n",
       "Public Identity      7139      Captain America (Steven Rogers)   \n",
       "Public Identity     64786  Wolverine (James \\\"Logan\\\" Howlett)   \n",
       "Public Identity      1868    Iron Man (Anthony \\\"Tony\\\" Stark)   \n",
       "No Dual Identity     2460                  Thor (Thor Odinson)   \n",
       "Public Identity      2458           Benjamin Grimm (Earth-616)   \n",
       "\n",
       "                               ALIGN        EYE        HAIR              SEX  \\\n",
       "ID                                                                             \n",
       "Public Identity      Good Characters  Blue Eyes  White Hair  Male Characters   \n",
       "Public Identity   Neutral Characters  Blue Eyes  Black Hair  Male Characters   \n",
       "Public Identity      Good Characters  Blue Eyes  Black Hair  Male Characters   \n",
       "No Dual Identity     Good Characters  Blue Eyes  Blond Hair  Male Characters   \n",
       "Public Identity      Good Characters  Blue Eyes     No Hair  Male Characters   \n",
       "\n",
       "                  GSM              ALIVE  APPEARANCES FIRST APPEARANCE    Year  \n",
       "ID                                                                              \n",
       "Public Identity   NaN  Living Characters       3360.0           Mar-41  1941.0  \n",
       "Public Identity   NaN  Living Characters       3061.0           Oct-74  1974.0  \n",
       "Public Identity   NaN  Living Characters       2961.0           Mar-63  1963.0  \n",
       "No Dual Identity  NaN  Living Characters       2258.0           Nov-50  1950.0  \n",
       "Public Identity   NaN  Living Characters       2255.0           Nov-61  1961.0  "
      ]
     },
     "execution_count": 91,
     "metadata": {},
     "output_type": "execute_result"
    }
   ],
   "source": [
    "df.iloc[1:6]"
   ]
  },
  {
   "cell_type": "markdown",
   "metadata": {},
   "source": [
    "#### Slice by row number & column number"
   ]
  },
  {
   "cell_type": "code",
   "execution_count": 92,
   "metadata": {},
   "outputs": [
    {
     "data": {
      "text/html": [
       "<div>\n",
       "<style scoped>\n",
       "    .dataframe tbody tr th:only-of-type {\n",
       "        vertical-align: middle;\n",
       "    }\n",
       "\n",
       "    .dataframe tbody tr th {\n",
       "        vertical-align: top;\n",
       "    }\n",
       "\n",
       "    .dataframe thead th {\n",
       "        text-align: right;\n",
       "    }\n",
       "</style>\n",
       "<table border=\"1\" class=\"dataframe\">\n",
       "  <thead>\n",
       "    <tr style=\"text-align: right;\">\n",
       "      <th></th>\n",
       "      <th>page_id</th>\n",
       "      <th>SEX</th>\n",
       "      <th>Year</th>\n",
       "    </tr>\n",
       "    <tr>\n",
       "      <th>ID</th>\n",
       "      <th></th>\n",
       "      <th></th>\n",
       "      <th></th>\n",
       "    </tr>\n",
       "  </thead>\n",
       "  <tbody>\n",
       "    <tr>\n",
       "      <th>Public Identity</th>\n",
       "      <td>7139</td>\n",
       "      <td>Male Characters</td>\n",
       "      <td>1941.0</td>\n",
       "    </tr>\n",
       "    <tr>\n",
       "      <th>Public Identity</th>\n",
       "      <td>64786</td>\n",
       "      <td>Male Characters</td>\n",
       "      <td>1974.0</td>\n",
       "    </tr>\n",
       "    <tr>\n",
       "      <th>Public Identity</th>\n",
       "      <td>1868</td>\n",
       "      <td>Male Characters</td>\n",
       "      <td>1963.0</td>\n",
       "    </tr>\n",
       "    <tr>\n",
       "      <th>No Dual Identity</th>\n",
       "      <td>2460</td>\n",
       "      <td>Male Characters</td>\n",
       "      <td>1950.0</td>\n",
       "    </tr>\n",
       "    <tr>\n",
       "      <th>Public Identity</th>\n",
       "      <td>2458</td>\n",
       "      <td>Male Characters</td>\n",
       "      <td>1961.0</td>\n",
       "    </tr>\n",
       "  </tbody>\n",
       "</table>\n",
       "</div>"
      ],
      "text/plain": [
       "                  page_id              SEX    Year\n",
       "ID                                                \n",
       "Public Identity      7139  Male Characters  1941.0\n",
       "Public Identity     64786  Male Characters  1974.0\n",
       "Public Identity      1868  Male Characters  1963.0\n",
       "No Dual Identity     2460  Male Characters  1950.0\n",
       "Public Identity      2458  Male Characters  1961.0"
      ]
     },
     "execution_count": 92,
     "metadata": {},
     "output_type": "execute_result"
    }
   ],
   "source": [
    "df.iloc[1:6,[0,5,10]]"
   ]
  },
  {
   "cell_type": "markdown",
   "metadata": {},
   "source": [
    "### Filtering & Conditional Selection"
   ]
  },
  {
   "cell_type": "markdown",
   "metadata": {},
   "source": [
    "#### Filtering based on condition"
   ]
  },
  {
   "cell_type": "code",
   "execution_count": 93,
   "metadata": {},
   "outputs": [
    {
     "data": {
      "text/html": [
       "<div>\n",
       "<style scoped>\n",
       "    .dataframe tbody tr th:only-of-type {\n",
       "        vertical-align: middle;\n",
       "    }\n",
       "\n",
       "    .dataframe tbody tr th {\n",
       "        vertical-align: top;\n",
       "    }\n",
       "\n",
       "    .dataframe thead th {\n",
       "        text-align: right;\n",
       "    }\n",
       "</style>\n",
       "<table border=\"1\" class=\"dataframe\">\n",
       "  <thead>\n",
       "    <tr style=\"text-align: right;\">\n",
       "      <th></th>\n",
       "      <th>page_id</th>\n",
       "      <th>name</th>\n",
       "      <th>ALIGN</th>\n",
       "      <th>EYE</th>\n",
       "      <th>HAIR</th>\n",
       "      <th>SEX</th>\n",
       "      <th>GSM</th>\n",
       "      <th>ALIVE</th>\n",
       "      <th>APPEARANCES</th>\n",
       "      <th>FIRST APPEARANCE</th>\n",
       "      <th>Year</th>\n",
       "    </tr>\n",
       "    <tr>\n",
       "      <th>ID</th>\n",
       "      <th></th>\n",
       "      <th></th>\n",
       "      <th></th>\n",
       "      <th></th>\n",
       "      <th></th>\n",
       "      <th></th>\n",
       "      <th></th>\n",
       "      <th></th>\n",
       "      <th></th>\n",
       "      <th></th>\n",
       "      <th></th>\n",
       "    </tr>\n",
       "  </thead>\n",
       "  <tbody>\n",
       "    <tr>\n",
       "      <th>Secret Identity</th>\n",
       "      <td>1678</td>\n",
       "      <td>Spider-Man (Peter Parker)</td>\n",
       "      <td>Good Characters</td>\n",
       "      <td>Hazel Eyes</td>\n",
       "      <td>Brown Hair</td>\n",
       "      <td>Male Characters</td>\n",
       "      <td>NaN</td>\n",
       "      <td>Living Characters</td>\n",
       "      <td>4043.0</td>\n",
       "      <td>Aug-62</td>\n",
       "      <td>1962.0</td>\n",
       "    </tr>\n",
       "    <tr>\n",
       "      <th>Public Identity</th>\n",
       "      <td>7139</td>\n",
       "      <td>Captain America (Steven Rogers)</td>\n",
       "      <td>Good Characters</td>\n",
       "      <td>Blue Eyes</td>\n",
       "      <td>White Hair</td>\n",
       "      <td>Male Characters</td>\n",
       "      <td>NaN</td>\n",
       "      <td>Living Characters</td>\n",
       "      <td>3360.0</td>\n",
       "      <td>Mar-41</td>\n",
       "      <td>1941.0</td>\n",
       "    </tr>\n",
       "    <tr>\n",
       "      <th>Public Identity</th>\n",
       "      <td>64786</td>\n",
       "      <td>Wolverine (James \\\"Logan\\\" Howlett)</td>\n",
       "      <td>Neutral Characters</td>\n",
       "      <td>Blue Eyes</td>\n",
       "      <td>Black Hair</td>\n",
       "      <td>Male Characters</td>\n",
       "      <td>NaN</td>\n",
       "      <td>Living Characters</td>\n",
       "      <td>3061.0</td>\n",
       "      <td>Oct-74</td>\n",
       "      <td>1974.0</td>\n",
       "    </tr>\n",
       "  </tbody>\n",
       "</table>\n",
       "</div>"
      ],
      "text/plain": [
       "                 page_id                                 name  \\\n",
       "ID                                                              \n",
       "Secret Identity     1678            Spider-Man (Peter Parker)   \n",
       "Public Identity     7139      Captain America (Steven Rogers)   \n",
       "Public Identity    64786  Wolverine (James \\\"Logan\\\" Howlett)   \n",
       "\n",
       "                              ALIGN         EYE        HAIR              SEX  \\\n",
       "ID                                                                             \n",
       "Secret Identity     Good Characters  Hazel Eyes  Brown Hair  Male Characters   \n",
       "Public Identity     Good Characters   Blue Eyes  White Hair  Male Characters   \n",
       "Public Identity  Neutral Characters   Blue Eyes  Black Hair  Male Characters   \n",
       "\n",
       "                 GSM              ALIVE  APPEARANCES FIRST APPEARANCE    Year  \n",
       "ID                                                                             \n",
       "Secret Identity  NaN  Living Characters       4043.0           Aug-62  1962.0  \n",
       "Public Identity  NaN  Living Characters       3360.0           Mar-41  1941.0  \n",
       "Public Identity  NaN  Living Characters       3061.0           Oct-74  1974.0  "
      ]
     },
     "execution_count": 93,
     "metadata": {},
     "output_type": "execute_result"
    }
   ],
   "source": [
    "df.loc[df['APPEARANCES']>3000]"
   ]
  },
  {
   "cell_type": "markdown",
   "metadata": {},
   "source": [
    "#### Filtering based on multiple conditions"
   ]
  },
  {
   "cell_type": "code",
   "execution_count": 94,
   "metadata": {},
   "outputs": [
    {
     "data": {
      "text/html": [
       "<div>\n",
       "<style scoped>\n",
       "    .dataframe tbody tr th:only-of-type {\n",
       "        vertical-align: middle;\n",
       "    }\n",
       "\n",
       "    .dataframe tbody tr th {\n",
       "        vertical-align: top;\n",
       "    }\n",
       "\n",
       "    .dataframe thead th {\n",
       "        text-align: right;\n",
       "    }\n",
       "</style>\n",
       "<table border=\"1\" class=\"dataframe\">\n",
       "  <thead>\n",
       "    <tr style=\"text-align: right;\">\n",
       "      <th></th>\n",
       "      <th>page_id</th>\n",
       "      <th>name</th>\n",
       "      <th>ALIGN</th>\n",
       "      <th>EYE</th>\n",
       "      <th>HAIR</th>\n",
       "      <th>SEX</th>\n",
       "      <th>GSM</th>\n",
       "      <th>ALIVE</th>\n",
       "      <th>APPEARANCES</th>\n",
       "      <th>FIRST APPEARANCE</th>\n",
       "      <th>Year</th>\n",
       "    </tr>\n",
       "    <tr>\n",
       "      <th>ID</th>\n",
       "      <th></th>\n",
       "      <th></th>\n",
       "      <th></th>\n",
       "      <th></th>\n",
       "      <th></th>\n",
       "      <th></th>\n",
       "      <th></th>\n",
       "      <th></th>\n",
       "      <th></th>\n",
       "      <th></th>\n",
       "      <th></th>\n",
       "    </tr>\n",
       "  </thead>\n",
       "  <tbody>\n",
       "    <tr>\n",
       "      <th>Public Identity</th>\n",
       "      <td>6545</td>\n",
       "      <td>Natalia Romanova (Earth-616)</td>\n",
       "      <td>Good Characters</td>\n",
       "      <td>Green Eyes</td>\n",
       "      <td>Red Hair</td>\n",
       "      <td>Female Characters</td>\n",
       "      <td>Bisexual Characters</td>\n",
       "      <td>Living Characters</td>\n",
       "      <td>1050.0</td>\n",
       "      <td>Apr-64</td>\n",
       "      <td>1964.0</td>\n",
       "    </tr>\n",
       "    <tr>\n",
       "      <th>No Dual Identity</th>\n",
       "      <td>1818</td>\n",
       "      <td>Hercules (Earth-616)</td>\n",
       "      <td>Good Characters</td>\n",
       "      <td>Blue Eyes</td>\n",
       "      <td>Brown Hair</td>\n",
       "      <td>Male Characters</td>\n",
       "      <td>Bisexual Characters</td>\n",
       "      <td>Living Characters</td>\n",
       "      <td>725.0</td>\n",
       "      <td>Oct-65</td>\n",
       "      <td>1965.0</td>\n",
       "    </tr>\n",
       "    <tr>\n",
       "      <th>Secret Identity</th>\n",
       "      <td>2307</td>\n",
       "      <td>Elizabeth Braddock (Earth-616)</td>\n",
       "      <td>Neutral Characters</td>\n",
       "      <td>Blue Eyes</td>\n",
       "      <td>Purple Hair</td>\n",
       "      <td>Female Characters</td>\n",
       "      <td>Bisexual Characters</td>\n",
       "      <td>Living Characters</td>\n",
       "      <td>708.0</td>\n",
       "      <td>Dec-76</td>\n",
       "      <td>1976.0</td>\n",
       "    </tr>\n",
       "    <tr>\n",
       "      <th>No Dual Identity</th>\n",
       "      <td>2042</td>\n",
       "      <td>Loki Laufeyson (Earth-616)</td>\n",
       "      <td>Neutral Characters</td>\n",
       "      <td>Green Eyes</td>\n",
       "      <td>Black Hair</td>\n",
       "      <td>Genderfluid Characters</td>\n",
       "      <td>Bisexual Characters</td>\n",
       "      <td>Living Characters</td>\n",
       "      <td>532.0</td>\n",
       "      <td>Aug-49</td>\n",
       "      <td>1949.0</td>\n",
       "    </tr>\n",
       "    <tr>\n",
       "      <th>Secret Identity</th>\n",
       "      <td>55878</td>\n",
       "      <td>Raven Darkholme (Earth-616)</td>\n",
       "      <td>Bad Characters</td>\n",
       "      <td>Yellow Eyes</td>\n",
       "      <td>Red Hair</td>\n",
       "      <td>Female Characters</td>\n",
       "      <td>Bisexual Characters</td>\n",
       "      <td>Living Characters</td>\n",
       "      <td>371.0</td>\n",
       "      <td>Apr-78</td>\n",
       "      <td>1978.0</td>\n",
       "    </tr>\n",
       "    <tr>\n",
       "      <th>Secret Identity</th>\n",
       "      <td>2182</td>\n",
       "      <td>Heather Douglas (Earth-616)</td>\n",
       "      <td>Good Characters</td>\n",
       "      <td>Blue Eyes</td>\n",
       "      <td>Bald</td>\n",
       "      <td>Female Characters</td>\n",
       "      <td>Bisexual Characters</td>\n",
       "      <td>Living Characters</td>\n",
       "      <td>323.0</td>\n",
       "      <td>Jan-73</td>\n",
       "      <td>1973.0</td>\n",
       "    </tr>\n",
       "    <tr>\n",
       "      <th>Secret Identity</th>\n",
       "      <td>51769</td>\n",
       "      <td>Akihiro (Earth-616)</td>\n",
       "      <td>Bad Characters</td>\n",
       "      <td>Blue Eyes</td>\n",
       "      <td>Black Hair</td>\n",
       "      <td>Male Characters</td>\n",
       "      <td>Bisexual Characters</td>\n",
       "      <td>Living Characters</td>\n",
       "      <td>189.0</td>\n",
       "      <td>Oct-06</td>\n",
       "      <td>2006.0</td>\n",
       "    </tr>\n",
       "    <tr>\n",
       "      <th>Public Identity</th>\n",
       "      <td>18271</td>\n",
       "      <td>Marlo Chandler (Earth-616)</td>\n",
       "      <td>Good Characters</td>\n",
       "      <td>Blue Eyes</td>\n",
       "      <td>Red Hair</td>\n",
       "      <td>Female Characters</td>\n",
       "      <td>Bisexual Characters</td>\n",
       "      <td>Living Characters</td>\n",
       "      <td>131.0</td>\n",
       "      <td>Sep-88</td>\n",
       "      <td>1988.0</td>\n",
       "    </tr>\n",
       "    <tr>\n",
       "      <th>No Dual Identity</th>\n",
       "      <td>1465</td>\n",
       "      <td>Doop (Earth-616)</td>\n",
       "      <td>Good Characters</td>\n",
       "      <td>Variable Eyes</td>\n",
       "      <td>Black Hair</td>\n",
       "      <td>Male Characters</td>\n",
       "      <td>Bisexual Characters</td>\n",
       "      <td>Living Characters</td>\n",
       "      <td>113.0</td>\n",
       "      <td>Jul-01</td>\n",
       "      <td>2001.0</td>\n",
       "    </tr>\n",
       "    <tr>\n",
       "      <th>Secret Identity</th>\n",
       "      <td>2298</td>\n",
       "      <td>David Alleyne (Earth-616)</td>\n",
       "      <td>Good Characters</td>\n",
       "      <td>Brown Eyes</td>\n",
       "      <td>Black Hair</td>\n",
       "      <td>Male Characters</td>\n",
       "      <td>Bisexual Characters</td>\n",
       "      <td>Living Characters</td>\n",
       "      <td>113.0</td>\n",
       "      <td>Oct-03</td>\n",
       "      <td>2003.0</td>\n",
       "    </tr>\n",
       "    <tr>\n",
       "      <th>Secret Identity</th>\n",
       "      <td>1424</td>\n",
       "      <td>Irene Adler (Earth-616)</td>\n",
       "      <td>Neutral Characters</td>\n",
       "      <td>White Eyes</td>\n",
       "      <td>Silver Hair</td>\n",
       "      <td>Female Characters</td>\n",
       "      <td>Bisexual Characters</td>\n",
       "      <td>Deceased Characters</td>\n",
       "      <td>82.0</td>\n",
       "      <td>Jan-81</td>\n",
       "      <td>1981.0</td>\n",
       "    </tr>\n",
       "    <tr>\n",
       "      <th>No Dual Identity</th>\n",
       "      <td>1561</td>\n",
       "      <td>Yukio (Earth-616)</td>\n",
       "      <td>Neutral Characters</td>\n",
       "      <td>Brown Eyes</td>\n",
       "      <td>Black Hair</td>\n",
       "      <td>Female Characters</td>\n",
       "      <td>Bisexual Characters</td>\n",
       "      <td>Living Characters</td>\n",
       "      <td>68.0</td>\n",
       "      <td>Sep-82</td>\n",
       "      <td>1982.0</td>\n",
       "    </tr>\n",
       "    <tr>\n",
       "      <th>Secret Identity</th>\n",
       "      <td>1887</td>\n",
       "      <td>Jennifer Kale (Earth-616)</td>\n",
       "      <td>Good Characters</td>\n",
       "      <td>Blue Eyes</td>\n",
       "      <td>Blond Hair</td>\n",
       "      <td>Female Characters</td>\n",
       "      <td>Bisexual Characters</td>\n",
       "      <td>Deceased Characters</td>\n",
       "      <td>65.0</td>\n",
       "      <td>Dec-72</td>\n",
       "      <td>1972.0</td>\n",
       "    </tr>\n",
       "    <tr>\n",
       "      <th>Public Identity</th>\n",
       "      <td>2603</td>\n",
       "      <td>Miranda Leevald (Earth-616)</td>\n",
       "      <td>Neutral Characters</td>\n",
       "      <td>Green Eyes</td>\n",
       "      <td>Black Hair</td>\n",
       "      <td>Female Characters</td>\n",
       "      <td>Bisexual Characters</td>\n",
       "      <td>Living Characters</td>\n",
       "      <td>45.0</td>\n",
       "      <td>Dec-01</td>\n",
       "      <td>2001.0</td>\n",
       "    </tr>\n",
       "    <tr>\n",
       "      <th>Secret Identity</th>\n",
       "      <td>1759</td>\n",
       "      <td>Sybil Dvorak (Earth-616)</td>\n",
       "      <td>Bad Characters</td>\n",
       "      <td>Brown Eyes</td>\n",
       "      <td>Brown Hair</td>\n",
       "      <td>Female Characters</td>\n",
       "      <td>Bisexual Characters</td>\n",
       "      <td>Living Characters</td>\n",
       "      <td>40.0</td>\n",
       "      <td>Jan-79</td>\n",
       "      <td>1979.0</td>\n",
       "    </tr>\n",
       "    <tr>\n",
       "      <th>Secret Identity</th>\n",
       "      <td>23853</td>\n",
       "      <td>Xavin (Earth-616)</td>\n",
       "      <td>Good Characters</td>\n",
       "      <td>Brown Eyes</td>\n",
       "      <td>Brown Hair</td>\n",
       "      <td>Genderfluid Characters</td>\n",
       "      <td>Genderfluid Characters</td>\n",
       "      <td>Living Characters</td>\n",
       "      <td>33.0</td>\n",
       "      <td>Oct-05</td>\n",
       "      <td>2005.0</td>\n",
       "    </tr>\n",
       "    <tr>\n",
       "      <th>Secret Identity</th>\n",
       "      <td>22800</td>\n",
       "      <td>Sinclair Abbott (Earth-616)</td>\n",
       "      <td>Bad Characters</td>\n",
       "      <td>Blue Eyes</td>\n",
       "      <td>Blond Hair</td>\n",
       "      <td>Male Characters</td>\n",
       "      <td>Bisexual Characters</td>\n",
       "      <td>Deceased Characters</td>\n",
       "      <td>26.0</td>\n",
       "      <td>Feb-06</td>\n",
       "      <td>2006.0</td>\n",
       "    </tr>\n",
       "    <tr>\n",
       "      <th>Secret Identity</th>\n",
       "      <td>351736</td>\n",
       "      <td>Janice Lincoln (Earth-616)</td>\n",
       "      <td>Neutral Characters</td>\n",
       "      <td>Black Eyes</td>\n",
       "      <td>Black Hair</td>\n",
       "      <td>Female Characters</td>\n",
       "      <td>Bisexual Characters</td>\n",
       "      <td>Living Characters</td>\n",
       "      <td>18.0</td>\n",
       "      <td>Aug-10</td>\n",
       "      <td>2010.0</td>\n",
       "    </tr>\n",
       "    <tr>\n",
       "      <th>Secret Identity</th>\n",
       "      <td>578698</td>\n",
       "      <td>Charlie Cluster-7 (Cluster) (Earth-616)</td>\n",
       "      <td>Good Characters</td>\n",
       "      <td>Blue Eyes</td>\n",
       "      <td>Black Hair</td>\n",
       "      <td>Female Characters</td>\n",
       "      <td>Bisexual Characters</td>\n",
       "      <td>Living Characters</td>\n",
       "      <td>11.0</td>\n",
       "      <td>Feb-13</td>\n",
       "      <td>2013.0</td>\n",
       "    </tr>\n",
       "    <tr>\n",
       "      <th>Public Identity</th>\n",
       "      <td>34301</td>\n",
       "      <td>Sugar Kane (Earth-616)</td>\n",
       "      <td>Good Characters</td>\n",
       "      <td>NaN</td>\n",
       "      <td>Blond Hair</td>\n",
       "      <td>Female Characters</td>\n",
       "      <td>Bisexual Characters</td>\n",
       "      <td>Living Characters</td>\n",
       "      <td>6.0</td>\n",
       "      <td>Aug-01</td>\n",
       "      <td>2001.0</td>\n",
       "    </tr>\n",
       "  </tbody>\n",
       "</table>\n",
       "</div>"
      ],
      "text/plain": [
       "                  page_id                                     name  \\\n",
       "ID                                                                   \n",
       "Public Identity      6545             Natalia Romanova (Earth-616)   \n",
       "No Dual Identity     1818                     Hercules (Earth-616)   \n",
       "Secret Identity      2307           Elizabeth Braddock (Earth-616)   \n",
       "No Dual Identity     2042               Loki Laufeyson (Earth-616)   \n",
       "Secret Identity     55878              Raven Darkholme (Earth-616)   \n",
       "Secret Identity      2182              Heather Douglas (Earth-616)   \n",
       "Secret Identity     51769                      Akihiro (Earth-616)   \n",
       "Public Identity     18271               Marlo Chandler (Earth-616)   \n",
       "No Dual Identity     1465                         Doop (Earth-616)   \n",
       "Secret Identity      2298                David Alleyne (Earth-616)   \n",
       "Secret Identity      1424                  Irene Adler (Earth-616)   \n",
       "No Dual Identity     1561                        Yukio (Earth-616)   \n",
       "Secret Identity      1887                Jennifer Kale (Earth-616)   \n",
       "Public Identity      2603              Miranda Leevald (Earth-616)   \n",
       "Secret Identity      1759                 Sybil Dvorak (Earth-616)   \n",
       "Secret Identity     23853                        Xavin (Earth-616)   \n",
       "Secret Identity     22800              Sinclair Abbott (Earth-616)   \n",
       "Secret Identity    351736               Janice Lincoln (Earth-616)   \n",
       "Secret Identity    578698  Charlie Cluster-7 (Cluster) (Earth-616)   \n",
       "Public Identity     34301                   Sugar Kane (Earth-616)   \n",
       "\n",
       "                               ALIGN            EYE         HAIR  \\\n",
       "ID                                                                 \n",
       "Public Identity      Good Characters     Green Eyes     Red Hair   \n",
       "No Dual Identity     Good Characters      Blue Eyes   Brown Hair   \n",
       "Secret Identity   Neutral Characters      Blue Eyes  Purple Hair   \n",
       "No Dual Identity  Neutral Characters     Green Eyes   Black Hair   \n",
       "Secret Identity       Bad Characters    Yellow Eyes     Red Hair   \n",
       "Secret Identity      Good Characters      Blue Eyes         Bald   \n",
       "Secret Identity       Bad Characters      Blue Eyes   Black Hair   \n",
       "Public Identity      Good Characters      Blue Eyes     Red Hair   \n",
       "No Dual Identity     Good Characters  Variable Eyes   Black Hair   \n",
       "Secret Identity      Good Characters     Brown Eyes   Black Hair   \n",
       "Secret Identity   Neutral Characters     White Eyes  Silver Hair   \n",
       "No Dual Identity  Neutral Characters     Brown Eyes   Black Hair   \n",
       "Secret Identity      Good Characters      Blue Eyes   Blond Hair   \n",
       "Public Identity   Neutral Characters     Green Eyes   Black Hair   \n",
       "Secret Identity       Bad Characters     Brown Eyes   Brown Hair   \n",
       "Secret Identity      Good Characters     Brown Eyes   Brown Hair   \n",
       "Secret Identity       Bad Characters      Blue Eyes   Blond Hair   \n",
       "Secret Identity   Neutral Characters     Black Eyes   Black Hair   \n",
       "Secret Identity      Good Characters      Blue Eyes   Black Hair   \n",
       "Public Identity      Good Characters            NaN   Blond Hair   \n",
       "\n",
       "                                     SEX                     GSM  \\\n",
       "ID                                                                 \n",
       "Public Identity        Female Characters     Bisexual Characters   \n",
       "No Dual Identity         Male Characters     Bisexual Characters   \n",
       "Secret Identity        Female Characters     Bisexual Characters   \n",
       "No Dual Identity  Genderfluid Characters     Bisexual Characters   \n",
       "Secret Identity        Female Characters     Bisexual Characters   \n",
       "Secret Identity        Female Characters     Bisexual Characters   \n",
       "Secret Identity          Male Characters     Bisexual Characters   \n",
       "Public Identity        Female Characters     Bisexual Characters   \n",
       "No Dual Identity         Male Characters     Bisexual Characters   \n",
       "Secret Identity          Male Characters     Bisexual Characters   \n",
       "Secret Identity        Female Characters     Bisexual Characters   \n",
       "No Dual Identity       Female Characters     Bisexual Characters   \n",
       "Secret Identity        Female Characters     Bisexual Characters   \n",
       "Public Identity        Female Characters     Bisexual Characters   \n",
       "Secret Identity        Female Characters     Bisexual Characters   \n",
       "Secret Identity   Genderfluid Characters  Genderfluid Characters   \n",
       "Secret Identity          Male Characters     Bisexual Characters   \n",
       "Secret Identity        Female Characters     Bisexual Characters   \n",
       "Secret Identity        Female Characters     Bisexual Characters   \n",
       "Public Identity        Female Characters     Bisexual Characters   \n",
       "\n",
       "                                ALIVE  APPEARANCES FIRST APPEARANCE    Year  \n",
       "ID                                                                           \n",
       "Public Identity     Living Characters       1050.0           Apr-64  1964.0  \n",
       "No Dual Identity    Living Characters        725.0           Oct-65  1965.0  \n",
       "Secret Identity     Living Characters        708.0           Dec-76  1976.0  \n",
       "No Dual Identity    Living Characters        532.0           Aug-49  1949.0  \n",
       "Secret Identity     Living Characters        371.0           Apr-78  1978.0  \n",
       "Secret Identity     Living Characters        323.0           Jan-73  1973.0  \n",
       "Secret Identity     Living Characters        189.0           Oct-06  2006.0  \n",
       "Public Identity     Living Characters        131.0           Sep-88  1988.0  \n",
       "No Dual Identity    Living Characters        113.0           Jul-01  2001.0  \n",
       "Secret Identity     Living Characters        113.0           Oct-03  2003.0  \n",
       "Secret Identity   Deceased Characters         82.0           Jan-81  1981.0  \n",
       "No Dual Identity    Living Characters         68.0           Sep-82  1982.0  \n",
       "Secret Identity   Deceased Characters         65.0           Dec-72  1972.0  \n",
       "Public Identity     Living Characters         45.0           Dec-01  2001.0  \n",
       "Secret Identity     Living Characters         40.0           Jan-79  1979.0  \n",
       "Secret Identity     Living Characters         33.0           Oct-05  2005.0  \n",
       "Secret Identity   Deceased Characters         26.0           Feb-06  2006.0  \n",
       "Secret Identity     Living Characters         18.0           Aug-10  2010.0  \n",
       "Secret Identity     Living Characters         11.0           Feb-13  2013.0  \n",
       "Public Identity     Living Characters          6.0           Aug-01  2001.0  "
      ]
     },
     "execution_count": 94,
     "metadata": {},
     "output_type": "execute_result"
    }
   ],
   "source": [
    "df.loc[(df['GSM']=='Genderfluid Characters') | (df['GSM']=='Bisexual Characters')]"
   ]
  },
  {
   "cell_type": "markdown",
   "metadata": {},
   "source": [
    "#### Filtering based on string search"
   ]
  },
  {
   "cell_type": "code",
   "execution_count": 95,
   "metadata": {},
   "outputs": [
    {
     "data": {
      "text/html": [
       "<div>\n",
       "<style scoped>\n",
       "    .dataframe tbody tr th:only-of-type {\n",
       "        vertical-align: middle;\n",
       "    }\n",
       "\n",
       "    .dataframe tbody tr th {\n",
       "        vertical-align: top;\n",
       "    }\n",
       "\n",
       "    .dataframe thead th {\n",
       "        text-align: right;\n",
       "    }\n",
       "</style>\n",
       "<table border=\"1\" class=\"dataframe\">\n",
       "  <thead>\n",
       "    <tr style=\"text-align: right;\">\n",
       "      <th></th>\n",
       "      <th>page_id</th>\n",
       "      <th>name</th>\n",
       "      <th>ALIGN</th>\n",
       "      <th>EYE</th>\n",
       "      <th>HAIR</th>\n",
       "      <th>SEX</th>\n",
       "      <th>GSM</th>\n",
       "      <th>ALIVE</th>\n",
       "      <th>APPEARANCES</th>\n",
       "      <th>FIRST APPEARANCE</th>\n",
       "      <th>Year</th>\n",
       "    </tr>\n",
       "    <tr>\n",
       "      <th>ID</th>\n",
       "      <th></th>\n",
       "      <th></th>\n",
       "      <th></th>\n",
       "      <th></th>\n",
       "      <th></th>\n",
       "      <th></th>\n",
       "      <th></th>\n",
       "      <th></th>\n",
       "      <th></th>\n",
       "      <th></th>\n",
       "      <th></th>\n",
       "    </tr>\n",
       "  </thead>\n",
       "  <tbody>\n",
       "    <tr>\n",
       "      <th>Public Identity</th>\n",
       "      <td>34301</td>\n",
       "      <td>Sugar Kane (Earth-616)</td>\n",
       "      <td>Good Characters</td>\n",
       "      <td>NaN</td>\n",
       "      <td>Blond Hair</td>\n",
       "      <td>Female Characters</td>\n",
       "      <td>Bisexual Characters</td>\n",
       "      <td>Living Characters</td>\n",
       "      <td>6.0</td>\n",
       "      <td>Aug-01</td>\n",
       "      <td>2001.0</td>\n",
       "    </tr>\n",
       "    <tr>\n",
       "      <th>Secret Identity</th>\n",
       "      <td>397442</td>\n",
       "      <td>Sheba Sugarfangs (Earth-616)</td>\n",
       "      <td>Neutral Characters</td>\n",
       "      <td>Red Eyes</td>\n",
       "      <td>Brown Hair</td>\n",
       "      <td>Female Characters</td>\n",
       "      <td>NaN</td>\n",
       "      <td>Living Characters</td>\n",
       "      <td>1.0</td>\n",
       "      <td>Nov-10</td>\n",
       "      <td>2010.0</td>\n",
       "    </tr>\n",
       "  </tbody>\n",
       "</table>\n",
       "</div>"
      ],
      "text/plain": [
       "                 page_id                          name               ALIGN  \\\n",
       "ID                                                                           \n",
       "Public Identity    34301        Sugar Kane (Earth-616)     Good Characters   \n",
       "Secret Identity   397442  Sheba Sugarfangs (Earth-616)  Neutral Characters   \n",
       "\n",
       "                      EYE        HAIR                SEX                  GSM  \\\n",
       "ID                                                                              \n",
       "Public Identity       NaN  Blond Hair  Female Characters  Bisexual Characters   \n",
       "Secret Identity  Red Eyes  Brown Hair  Female Characters                  NaN   \n",
       "\n",
       "                             ALIVE  APPEARANCES FIRST APPEARANCE    Year  \n",
       "ID                                                                        \n",
       "Public Identity  Living Characters          6.0           Aug-01  2001.0  \n",
       "Secret Identity  Living Characters          1.0           Nov-10  2010.0  "
      ]
     },
     "execution_count": 95,
     "metadata": {},
     "output_type": "execute_result"
    }
   ],
   "source": [
    "df.loc[(df['name'].str.contains('Sugar'))]"
   ]
  },
  {
   "cell_type": "markdown",
   "metadata": {},
   "source": [
    "#### Filtering based on exact string match"
   ]
  },
  {
   "cell_type": "code",
   "execution_count": 96,
   "metadata": {},
   "outputs": [
    {
     "data": {
      "text/html": [
       "<div>\n",
       "<style scoped>\n",
       "    .dataframe tbody tr th:only-of-type {\n",
       "        vertical-align: middle;\n",
       "    }\n",
       "\n",
       "    .dataframe tbody tr th {\n",
       "        vertical-align: top;\n",
       "    }\n",
       "\n",
       "    .dataframe thead th {\n",
       "        text-align: right;\n",
       "    }\n",
       "</style>\n",
       "<table border=\"1\" class=\"dataframe\">\n",
       "  <thead>\n",
       "    <tr style=\"text-align: right;\">\n",
       "      <th></th>\n",
       "      <th>page_id</th>\n",
       "      <th>name</th>\n",
       "      <th>ALIGN</th>\n",
       "      <th>EYE</th>\n",
       "      <th>HAIR</th>\n",
       "      <th>SEX</th>\n",
       "      <th>GSM</th>\n",
       "      <th>ALIVE</th>\n",
       "      <th>APPEARANCES</th>\n",
       "      <th>FIRST APPEARANCE</th>\n",
       "      <th>Year</th>\n",
       "    </tr>\n",
       "    <tr>\n",
       "      <th>ID</th>\n",
       "      <th></th>\n",
       "      <th></th>\n",
       "      <th></th>\n",
       "      <th></th>\n",
       "      <th></th>\n",
       "      <th></th>\n",
       "      <th></th>\n",
       "      <th></th>\n",
       "      <th></th>\n",
       "      <th></th>\n",
       "      <th></th>\n",
       "    </tr>\n",
       "  </thead>\n",
       "  <tbody>\n",
       "    <tr>\n",
       "      <th>Public Identity</th>\n",
       "      <td>7139</td>\n",
       "      <td>Captain America (Steven Rogers)</td>\n",
       "      <td>Good Characters</td>\n",
       "      <td>Blue Eyes</td>\n",
       "      <td>White Hair</td>\n",
       "      <td>Male Characters</td>\n",
       "      <td>NaN</td>\n",
       "      <td>Living Characters</td>\n",
       "      <td>3360.0</td>\n",
       "      <td>Mar-41</td>\n",
       "      <td>1941.0</td>\n",
       "    </tr>\n",
       "  </tbody>\n",
       "</table>\n",
       "</div>"
      ],
      "text/plain": [
       "                 page_id                             name            ALIGN  \\\n",
       "ID                                                                           \n",
       "Public Identity     7139  Captain America (Steven Rogers)  Good Characters   \n",
       "\n",
       "                       EYE        HAIR              SEX  GSM  \\\n",
       "ID                                                             \n",
       "Public Identity  Blue Eyes  White Hair  Male Characters  NaN   \n",
       "\n",
       "                             ALIVE  APPEARANCES FIRST APPEARANCE    Year  \n",
       "ID                                                                        \n",
       "Public Identity  Living Characters       3360.0           Mar-41  1941.0  "
      ]
     },
     "execution_count": 96,
     "metadata": {},
     "output_type": "execute_result"
    }
   ],
   "source": [
    "df.loc[df['name']=='Captain America (Steven Rogers)']"
   ]
  },
  {
   "cell_type": "markdown",
   "metadata": {},
   "source": [
    "#### Show column value for exact string match"
   ]
  },
  {
   "cell_type": "code",
   "execution_count": 97,
   "metadata": {},
   "outputs": [
    {
     "data": {
      "text/plain": [
       "ID\n",
       "Public Identity    Male Characters\n",
       "Name: SEX, dtype: object"
      ]
     },
     "execution_count": 97,
     "metadata": {},
     "output_type": "execute_result"
    }
   ],
   "source": [
    "df.loc[df['name']=='Captain America (Steven Rogers)','SEX']"
   ]
  },
  {
   "cell_type": "markdown",
   "metadata": {},
   "source": [
    "#### Show selected columns for exact string match"
   ]
  },
  {
   "cell_type": "code",
   "execution_count": 98,
   "metadata": {},
   "outputs": [
    {
     "data": {
      "text/html": [
       "<div>\n",
       "<style scoped>\n",
       "    .dataframe tbody tr th:only-of-type {\n",
       "        vertical-align: middle;\n",
       "    }\n",
       "\n",
       "    .dataframe tbody tr th {\n",
       "        vertical-align: top;\n",
       "    }\n",
       "\n",
       "    .dataframe thead th {\n",
       "        text-align: right;\n",
       "    }\n",
       "</style>\n",
       "<table border=\"1\" class=\"dataframe\">\n",
       "  <thead>\n",
       "    <tr style=\"text-align: right;\">\n",
       "      <th></th>\n",
       "      <th>name</th>\n",
       "      <th>SEX</th>\n",
       "      <th>Year</th>\n",
       "    </tr>\n",
       "    <tr>\n",
       "      <th>ID</th>\n",
       "      <th></th>\n",
       "      <th></th>\n",
       "      <th></th>\n",
       "    </tr>\n",
       "  </thead>\n",
       "  <tbody>\n",
       "    <tr>\n",
       "      <th>Public Identity</th>\n",
       "      <td>Captain America (Steven Rogers)</td>\n",
       "      <td>Male Characters</td>\n",
       "      <td>1941.0</td>\n",
       "    </tr>\n",
       "  </tbody>\n",
       "</table>\n",
       "</div>"
      ],
      "text/plain": [
       "                                            name              SEX    Year\n",
       "ID                                                                       \n",
       "Public Identity  Captain America (Steven Rogers)  Male Characters  1941.0"
      ]
     },
     "execution_count": 98,
     "metadata": {},
     "output_type": "execute_result"
    }
   ],
   "source": [
    "df.loc[df['name']=='Captain America (Steven Rogers)',['name','SEX','Year']]"
   ]
  },
  {
   "cell_type": "markdown",
   "metadata": {},
   "source": [
    "### Removing Elements"
   ]
  },
  {
   "cell_type": "markdown",
   "metadata": {},
   "source": [
    "#### Dropping row by index"
   ]
  },
  {
   "cell_type": "code",
   "execution_count": 108,
   "metadata": {},
   "outputs": [
    {
     "ename": "SyntaxError",
     "evalue": "invalid syntax (3428400742.py, line 1)",
     "output_type": "error",
     "traceback": [
      "\u001b[1;36m  Input \u001b[1;32mIn [108]\u001b[1;36m\u001b[0m\n\u001b[1;33m    df.drop([1678, inplace=True])\u001b[0m\n\u001b[1;37m                          ^\u001b[0m\n\u001b[1;31mSyntaxError\u001b[0m\u001b[1;31m:\u001b[0m invalid syntax\n"
     ]
    }
   ],
   "source": [
    "df.drop([1678, inplace=True])"
   ]
  },
  {
   "cell_type": "code",
   "execution_count": 109,
   "metadata": {},
   "outputs": [
    {
     "data": {
      "text/plain": [
       "(16376, 11)"
      ]
     },
     "execution_count": 109,
     "metadata": {},
     "output_type": "execute_result"
    }
   ],
   "source": [
    "df.shape"
   ]
  },
  {
   "cell_type": "markdown",
   "metadata": {},
   "source": [
    "#### Dropping column by name"
   ]
  },
  {
   "cell_type": "code",
   "execution_count": 110,
   "metadata": {},
   "outputs": [],
   "source": [
    "df2 = df.drop('GSM', axis=1)"
   ]
  },
  {
   "cell_type": "code",
   "execution_count": 111,
   "metadata": {},
   "outputs": [
    {
     "data": {
      "text/plain": [
       "(16376, 11)"
      ]
     },
     "execution_count": 111,
     "metadata": {},
     "output_type": "execute_result"
    }
   ],
   "source": [
    "df.shape"
   ]
  },
  {
   "cell_type": "code",
   "execution_count": 112,
   "metadata": {},
   "outputs": [
    {
     "data": {
      "text/plain": [
       "(16376, 10)"
      ]
     },
     "execution_count": 112,
     "metadata": {},
     "output_type": "execute_result"
    }
   ],
   "source": [
    "df2.shape"
   ]
  },
  {
   "cell_type": "markdown",
   "metadata": {},
   "source": [
    "### Group By Function"
   ]
  },
  {
   "cell_type": "markdown",
   "metadata": {},
   "source": [
    "#### Group By one feature and aggregate"
   ]
  },
  {
   "cell_type": "code",
   "execution_count": 113,
   "metadata": {},
   "outputs": [
    {
     "data": {
      "text/html": [
       "<div>\n",
       "<style scoped>\n",
       "    .dataframe tbody tr th:only-of-type {\n",
       "        vertical-align: middle;\n",
       "    }\n",
       "\n",
       "    .dataframe tbody tr th {\n",
       "        vertical-align: top;\n",
       "    }\n",
       "\n",
       "    .dataframe thead th {\n",
       "        text-align: right;\n",
       "    }\n",
       "</style>\n",
       "<table border=\"1\" class=\"dataframe\">\n",
       "  <thead>\n",
       "    <tr style=\"text-align: right;\">\n",
       "      <th></th>\n",
       "      <th>name</th>\n",
       "      <th>SEX</th>\n",
       "    </tr>\n",
       "    <tr>\n",
       "      <th>ID</th>\n",
       "      <th></th>\n",
       "      <th></th>\n",
       "    </tr>\n",
       "  </thead>\n",
       "  <tbody>\n",
       "    <tr>\n",
       "      <th>Known to Authorities Identity</th>\n",
       "      <td>15</td>\n",
       "      <td>15</td>\n",
       "    </tr>\n",
       "    <tr>\n",
       "      <th>No Dual Identity</th>\n",
       "      <td>1788</td>\n",
       "      <td>1744</td>\n",
       "    </tr>\n",
       "    <tr>\n",
       "      <th>Public Identity</th>\n",
       "      <td>4528</td>\n",
       "      <td>4423</td>\n",
       "    </tr>\n",
       "    <tr>\n",
       "      <th>Secret Identity</th>\n",
       "      <td>6275</td>\n",
       "      <td>6026</td>\n",
       "    </tr>\n",
       "  </tbody>\n",
       "</table>\n",
       "</div>"
      ],
      "text/plain": [
       "                               name   SEX\n",
       "ID                                       \n",
       "Known to Authorities Identity    15    15\n",
       "No Dual Identity               1788  1744\n",
       "Public Identity                4528  4423\n",
       "Secret Identity                6275  6026"
      ]
     },
     "execution_count": 113,
     "metadata": {},
     "output_type": "execute_result"
    }
   ],
   "source": [
    "df.groupby('ID')[['name','SEX']].count()"
   ]
  },
  {
   "cell_type": "code",
   "execution_count": 114,
   "metadata": {},
   "outputs": [
    {
     "data": {
      "text/html": [
       "<div>\n",
       "<style scoped>\n",
       "    .dataframe tbody tr th:only-of-type {\n",
       "        vertical-align: middle;\n",
       "    }\n",
       "\n",
       "    .dataframe tbody tr th {\n",
       "        vertical-align: top;\n",
       "    }\n",
       "\n",
       "    .dataframe thead th {\n",
       "        text-align: right;\n",
       "    }\n",
       "</style>\n",
       "<table border=\"1\" class=\"dataframe\">\n",
       "  <thead>\n",
       "    <tr style=\"text-align: right;\">\n",
       "      <th></th>\n",
       "      <th>APPEARANCES</th>\n",
       "    </tr>\n",
       "    <tr>\n",
       "      <th>ID</th>\n",
       "      <th></th>\n",
       "    </tr>\n",
       "  </thead>\n",
       "  <tbody>\n",
       "    <tr>\n",
       "      <th>Known to Authorities Identity</th>\n",
       "      <td>74.400000</td>\n",
       "    </tr>\n",
       "    <tr>\n",
       "      <th>No Dual Identity</th>\n",
       "      <td>24.402013</td>\n",
       "    </tr>\n",
       "    <tr>\n",
       "      <th>Public Identity</th>\n",
       "      <td>23.407615</td>\n",
       "    </tr>\n",
       "    <tr>\n",
       "      <th>Secret Identity</th>\n",
       "      <td>17.379794</td>\n",
       "    </tr>\n",
       "  </tbody>\n",
       "</table>\n",
       "</div>"
      ],
      "text/plain": [
       "                               APPEARANCES\n",
       "ID                                        \n",
       "Known to Authorities Identity    74.400000\n",
       "No Dual Identity                 24.402013\n",
       "Public Identity                  23.407615\n",
       "Secret Identity                  17.379794"
      ]
     },
     "execution_count": 114,
     "metadata": {},
     "output_type": "execute_result"
    }
   ],
   "source": [
    "df.groupby('ID')[['APPEARANCES']].mean()"
   ]
  },
  {
   "cell_type": "code",
   "execution_count": 115,
   "metadata": {},
   "outputs": [
    {
     "data": {
      "text/html": [
       "<div>\n",
       "<style scoped>\n",
       "    .dataframe tbody tr th:only-of-type {\n",
       "        vertical-align: middle;\n",
       "    }\n",
       "\n",
       "    .dataframe tbody tr th {\n",
       "        vertical-align: top;\n",
       "    }\n",
       "\n",
       "    .dataframe thead tr th {\n",
       "        text-align: left;\n",
       "    }\n",
       "\n",
       "    .dataframe thead tr:last-of-type th {\n",
       "        text-align: right;\n",
       "    }\n",
       "</style>\n",
       "<table border=\"1\" class=\"dataframe\">\n",
       "  <thead>\n",
       "    <tr>\n",
       "      <th></th>\n",
       "      <th colspan=\"8\" halign=\"left\">APPEARANCES</th>\n",
       "    </tr>\n",
       "    <tr>\n",
       "      <th></th>\n",
       "      <th>count</th>\n",
       "      <th>mean</th>\n",
       "      <th>std</th>\n",
       "      <th>min</th>\n",
       "      <th>25%</th>\n",
       "      <th>50%</th>\n",
       "      <th>75%</th>\n",
       "      <th>max</th>\n",
       "    </tr>\n",
       "    <tr>\n",
       "      <th>ID</th>\n",
       "      <th></th>\n",
       "      <th></th>\n",
       "      <th></th>\n",
       "      <th></th>\n",
       "      <th></th>\n",
       "      <th></th>\n",
       "      <th></th>\n",
       "      <th></th>\n",
       "    </tr>\n",
       "  </thead>\n",
       "  <tbody>\n",
       "    <tr>\n",
       "      <th>Known to Authorities Identity</th>\n",
       "      <td>15.0</td>\n",
       "      <td>74.400000</td>\n",
       "      <td>112.960676</td>\n",
       "      <td>2.0</td>\n",
       "      <td>9.0</td>\n",
       "      <td>26.0</td>\n",
       "      <td>75.5</td>\n",
       "      <td>348.0</td>\n",
       "    </tr>\n",
       "    <tr>\n",
       "      <th>No Dual Identity</th>\n",
       "      <td>1689.0</td>\n",
       "      <td>24.402013</td>\n",
       "      <td>107.182232</td>\n",
       "      <td>1.0</td>\n",
       "      <td>1.0</td>\n",
       "      <td>3.0</td>\n",
       "      <td>10.0</td>\n",
       "      <td>2258.0</td>\n",
       "    </tr>\n",
       "    <tr>\n",
       "      <th>Public Identity</th>\n",
       "      <td>4281.0</td>\n",
       "      <td>23.407615</td>\n",
       "      <td>141.738933</td>\n",
       "      <td>1.0</td>\n",
       "      <td>1.0</td>\n",
       "      <td>3.0</td>\n",
       "      <td>8.0</td>\n",
       "      <td>3360.0</td>\n",
       "    </tr>\n",
       "    <tr>\n",
       "      <th>Secret Identity</th>\n",
       "      <td>5919.0</td>\n",
       "      <td>17.379794</td>\n",
       "      <td>77.300955</td>\n",
       "      <td>1.0</td>\n",
       "      <td>1.0</td>\n",
       "      <td>4.0</td>\n",
       "      <td>10.0</td>\n",
       "      <td>4043.0</td>\n",
       "    </tr>\n",
       "  </tbody>\n",
       "</table>\n",
       "</div>"
      ],
      "text/plain": [
       "                              APPEARANCES                                   \\\n",
       "                                    count       mean         std  min  25%   \n",
       "ID                                                                           \n",
       "Known to Authorities Identity        15.0  74.400000  112.960676  2.0  9.0   \n",
       "No Dual Identity                   1689.0  24.402013  107.182232  1.0  1.0   \n",
       "Public Identity                    4281.0  23.407615  141.738933  1.0  1.0   \n",
       "Secret Identity                    5919.0  17.379794   77.300955  1.0  1.0   \n",
       "\n",
       "                                                   \n",
       "                                50%   75%     max  \n",
       "ID                                                 \n",
       "Known to Authorities Identity  26.0  75.5   348.0  \n",
       "No Dual Identity                3.0  10.0  2258.0  \n",
       "Public Identity                 3.0   8.0  3360.0  \n",
       "Secret Identity                 4.0  10.0  4043.0  "
      ]
     },
     "execution_count": 115,
     "metadata": {},
     "output_type": "execute_result"
    }
   ],
   "source": [
    "df.groupby('ID')[['APPEARANCES']].describe()"
   ]
  },
  {
   "cell_type": "markdown",
   "metadata": {},
   "source": [
    "#### Group by multiple features"
   ]
  },
  {
   "cell_type": "code",
   "execution_count": 116,
   "metadata": {},
   "outputs": [
    {
     "data": {
      "text/html": [
       "<div>\n",
       "<style scoped>\n",
       "    .dataframe tbody tr th:only-of-type {\n",
       "        vertical-align: middle;\n",
       "    }\n",
       "\n",
       "    .dataframe tbody tr th {\n",
       "        vertical-align: top;\n",
       "    }\n",
       "\n",
       "    .dataframe thead th {\n",
       "        text-align: right;\n",
       "    }\n",
       "</style>\n",
       "<table border=\"1\" class=\"dataframe\">\n",
       "  <thead>\n",
       "    <tr style=\"text-align: right;\">\n",
       "      <th></th>\n",
       "      <th></th>\n",
       "      <th>APPEARANCES</th>\n",
       "    </tr>\n",
       "    <tr>\n",
       "      <th>ID</th>\n",
       "      <th>ALIGN</th>\n",
       "      <th></th>\n",
       "    </tr>\n",
       "  </thead>\n",
       "  <tbody>\n",
       "    <tr>\n",
       "      <th rowspan=\"3\" valign=\"top\">Known to Authorities Identity</th>\n",
       "      <th>Bad Characters</th>\n",
       "      <td>35.0</td>\n",
       "    </tr>\n",
       "    <tr>\n",
       "      <th>Good Characters</th>\n",
       "      <td>720.0</td>\n",
       "    </tr>\n",
       "    <tr>\n",
       "      <th>Neutral Characters</th>\n",
       "      <td>361.0</td>\n",
       "    </tr>\n",
       "    <tr>\n",
       "      <th rowspan=\"3\" valign=\"top\">No Dual Identity</th>\n",
       "      <th>Bad Characters</th>\n",
       "      <td>4758.0</td>\n",
       "    </tr>\n",
       "    <tr>\n",
       "      <th>Good Characters</th>\n",
       "      <td>25296.0</td>\n",
       "    </tr>\n",
       "    <tr>\n",
       "      <th>Neutral Characters</th>\n",
       "      <td>9137.0</td>\n",
       "    </tr>\n",
       "    <tr>\n",
       "      <th rowspan=\"3\" valign=\"top\">Public Identity</th>\n",
       "      <th>Bad Characters</th>\n",
       "      <td>15153.0</td>\n",
       "    </tr>\n",
       "    <tr>\n",
       "      <th>Good Characters</th>\n",
       "      <td>64698.0</td>\n",
       "    </tr>\n",
       "    <tr>\n",
       "      <th>Neutral Characters</th>\n",
       "      <td>14807.0</td>\n",
       "    </tr>\n",
       "    <tr>\n",
       "      <th rowspan=\"3\" valign=\"top\">Secret Identity</th>\n",
       "      <th>Bad Characters</th>\n",
       "      <td>27130.0</td>\n",
       "    </tr>\n",
       "    <tr>\n",
       "      <th>Good Characters</th>\n",
       "      <td>56278.0</td>\n",
       "    </tr>\n",
       "    <tr>\n",
       "      <th>Neutral Characters</th>\n",
       "      <td>15316.0</td>\n",
       "    </tr>\n",
       "  </tbody>\n",
       "</table>\n",
       "</div>"
      ],
      "text/plain": [
       "                                                  APPEARANCES\n",
       "ID                            ALIGN                          \n",
       "Known to Authorities Identity Bad Characters             35.0\n",
       "                              Good Characters           720.0\n",
       "                              Neutral Characters        361.0\n",
       "No Dual Identity              Bad Characters           4758.0\n",
       "                              Good Characters         25296.0\n",
       "                              Neutral Characters       9137.0\n",
       "Public Identity               Bad Characters          15153.0\n",
       "                              Good Characters         64698.0\n",
       "                              Neutral Characters      14807.0\n",
       "Secret Identity               Bad Characters          27130.0\n",
       "                              Good Characters         56278.0\n",
       "                              Neutral Characters      15316.0"
      ]
     },
     "execution_count": 116,
     "metadata": {},
     "output_type": "execute_result"
    }
   ],
   "source": [
    "df.groupby(['ID','ALIGN'])[['APPEARANCES']].sum()"
   ]
  },
  {
   "cell_type": "markdown",
   "metadata": {},
   "source": [
    "#### Number of observations in each group"
   ]
  },
  {
   "cell_type": "code",
   "execution_count": 117,
   "metadata": {},
   "outputs": [
    {
     "data": {
      "text/plain": [
       "ID                             ALIGN             \n",
       "Known to Authorities Identity  Bad Characters           3\n",
       "                               Good Characters         10\n",
       "                               Neutral Characters       2\n",
       "No Dual Identity               Bad Characters         474\n",
       "                               Good Characters        647\n",
       "                               Neutral Characters     390\n",
       "Public Identity                Bad Characters        1452\n",
       "                               Good Characters       1628\n",
       "                               Neutral Characters     706\n",
       "Secret Identity                Bad Characters        3223\n",
       "                               Good Characters       1613\n",
       "                               Neutral Characters     818\n",
       "dtype: int64"
      ]
     },
     "execution_count": 117,
     "metadata": {},
     "output_type": "execute_result"
    }
   ],
   "source": [
    "df.groupby(['ID','ALIGN']).size()"
   ]
  },
  {
   "cell_type": "markdown",
   "metadata": {},
   "source": [
    "### Pivot Tables"
   ]
  },
  {
   "cell_type": "markdown",
   "metadata": {},
   "source": [
    "#### Single Index"
   ]
  },
  {
   "cell_type": "code",
   "execution_count": 118,
   "metadata": {},
   "outputs": [
    {
     "data": {
      "text/html": [
       "<div>\n",
       "<style scoped>\n",
       "    .dataframe tbody tr th:only-of-type {\n",
       "        vertical-align: middle;\n",
       "    }\n",
       "\n",
       "    .dataframe tbody tr th {\n",
       "        vertical-align: top;\n",
       "    }\n",
       "\n",
       "    .dataframe thead th {\n",
       "        text-align: right;\n",
       "    }\n",
       "</style>\n",
       "<table border=\"1\" class=\"dataframe\">\n",
       "  <thead>\n",
       "    <tr style=\"text-align: right;\">\n",
       "      <th></th>\n",
       "      <th>APPEARANCES</th>\n",
       "      <th>Year</th>\n",
       "      <th>page_id</th>\n",
       "    </tr>\n",
       "    <tr>\n",
       "      <th>ID</th>\n",
       "      <th></th>\n",
       "      <th></th>\n",
       "      <th></th>\n",
       "    </tr>\n",
       "  </thead>\n",
       "  <tbody>\n",
       "    <tr>\n",
       "      <th>Known to Authorities Identity</th>\n",
       "      <td>74.400000</td>\n",
       "      <td>1992.866667</td>\n",
       "      <td>52370.200000</td>\n",
       "    </tr>\n",
       "    <tr>\n",
       "      <th>No Dual Identity</th>\n",
       "      <td>24.402013</td>\n",
       "      <td>1981.134543</td>\n",
       "      <td>402764.313199</td>\n",
       "    </tr>\n",
       "    <tr>\n",
       "      <th>Public Identity</th>\n",
       "      <td>23.407615</td>\n",
       "      <td>1981.168421</td>\n",
       "      <td>356246.426237</td>\n",
       "    </tr>\n",
       "    <tr>\n",
       "      <th>Secret Identity</th>\n",
       "      <td>17.379794</td>\n",
       "      <td>1987.392068</td>\n",
       "      <td>244121.057530</td>\n",
       "    </tr>\n",
       "  </tbody>\n",
       "</table>\n",
       "</div>"
      ],
      "text/plain": [
       "                               APPEARANCES         Year        page_id\n",
       "ID                                                                    \n",
       "Known to Authorities Identity    74.400000  1992.866667   52370.200000\n",
       "No Dual Identity                 24.402013  1981.134543  402764.313199\n",
       "Public Identity                  23.407615  1981.168421  356246.426237\n",
       "Secret Identity                  17.379794  1987.392068  244121.057530"
      ]
     },
     "execution_count": 118,
     "metadata": {},
     "output_type": "execute_result"
    }
   ],
   "source": [
    "pd.pivot_table(df, index = ['ID'])"
   ]
  },
  {
   "cell_type": "code",
   "execution_count": 119,
   "metadata": {},
   "outputs": [
    {
     "data": {
      "text/html": [
       "<div>\n",
       "<style scoped>\n",
       "    .dataframe tbody tr th:only-of-type {\n",
       "        vertical-align: middle;\n",
       "    }\n",
       "\n",
       "    .dataframe tbody tr th {\n",
       "        vertical-align: top;\n",
       "    }\n",
       "\n",
       "    .dataframe thead th {\n",
       "        text-align: right;\n",
       "    }\n",
       "</style>\n",
       "<table border=\"1\" class=\"dataframe\">\n",
       "  <thead>\n",
       "    <tr style=\"text-align: right;\">\n",
       "      <th></th>\n",
       "      <th>APPEARANCES</th>\n",
       "    </tr>\n",
       "    <tr>\n",
       "      <th>ID</th>\n",
       "      <th></th>\n",
       "    </tr>\n",
       "  </thead>\n",
       "  <tbody>\n",
       "    <tr>\n",
       "      <th>Known to Authorities Identity</th>\n",
       "      <td>1116.0</td>\n",
       "    </tr>\n",
       "    <tr>\n",
       "      <th>No Dual Identity</th>\n",
       "      <td>41215.0</td>\n",
       "    </tr>\n",
       "    <tr>\n",
       "      <th>Public Identity</th>\n",
       "      <td>100208.0</td>\n",
       "    </tr>\n",
       "    <tr>\n",
       "      <th>Secret Identity</th>\n",
       "      <td>102871.0</td>\n",
       "    </tr>\n",
       "  </tbody>\n",
       "</table>\n",
       "</div>"
      ],
      "text/plain": [
       "                               APPEARANCES\n",
       "ID                                        \n",
       "Known to Authorities Identity       1116.0\n",
       "No Dual Identity                   41215.0\n",
       "Public Identity                   100208.0\n",
       "Secret Identity                   102871.0"
      ]
     },
     "execution_count": 119,
     "metadata": {},
     "output_type": "execute_result"
    }
   ],
   "source": [
    "pd.pivot_table(df, index = ['ID'], values = 'APPEARANCES', aggfunc='sum')"
   ]
  },
  {
   "cell_type": "markdown",
   "metadata": {},
   "source": [
    "#### Multi Index"
   ]
  },
  {
   "cell_type": "code",
   "execution_count": 120,
   "metadata": {},
   "outputs": [
    {
     "data": {
      "text/html": [
       "<div>\n",
       "<style scoped>\n",
       "    .dataframe tbody tr th:only-of-type {\n",
       "        vertical-align: middle;\n",
       "    }\n",
       "\n",
       "    .dataframe tbody tr th {\n",
       "        vertical-align: top;\n",
       "    }\n",
       "\n",
       "    .dataframe thead th {\n",
       "        text-align: right;\n",
       "    }\n",
       "</style>\n",
       "<table border=\"1\" class=\"dataframe\">\n",
       "  <thead>\n",
       "    <tr style=\"text-align: right;\">\n",
       "      <th></th>\n",
       "      <th></th>\n",
       "      <th>name</th>\n",
       "    </tr>\n",
       "    <tr>\n",
       "      <th>ID</th>\n",
       "      <th>SEX</th>\n",
       "      <th></th>\n",
       "    </tr>\n",
       "  </thead>\n",
       "  <tbody>\n",
       "    <tr>\n",
       "      <th rowspan=\"3\" valign=\"top\">Known to Authorities Identity</th>\n",
       "      <th>Agender Characters</th>\n",
       "      <td>1</td>\n",
       "    </tr>\n",
       "    <tr>\n",
       "      <th>Female Characters</th>\n",
       "      <td>5</td>\n",
       "    </tr>\n",
       "    <tr>\n",
       "      <th>Male Characters</th>\n",
       "      <td>9</td>\n",
       "    </tr>\n",
       "    <tr>\n",
       "      <th rowspan=\"4\" valign=\"top\">No Dual Identity</th>\n",
       "      <th>Agender Characters</th>\n",
       "      <td>11</td>\n",
       "    </tr>\n",
       "    <tr>\n",
       "      <th>Female Characters</th>\n",
       "      <td>486</td>\n",
       "    </tr>\n",
       "    <tr>\n",
       "      <th>Genderfluid Characters</th>\n",
       "      <td>1</td>\n",
       "    </tr>\n",
       "    <tr>\n",
       "      <th>Male Characters</th>\n",
       "      <td>1246</td>\n",
       "    </tr>\n",
       "    <tr>\n",
       "      <th rowspan=\"3\" valign=\"top\">Public Identity</th>\n",
       "      <th>Agender Characters</th>\n",
       "      <td>5</td>\n",
       "    </tr>\n",
       "    <tr>\n",
       "      <th>Female Characters</th>\n",
       "      <td>1051</td>\n",
       "    </tr>\n",
       "    <tr>\n",
       "      <th>Male Characters</th>\n",
       "      <td>3367</td>\n",
       "    </tr>\n",
       "    <tr>\n",
       "      <th rowspan=\"4\" valign=\"top\">Secret Identity</th>\n",
       "      <th>Agender Characters</th>\n",
       "      <td>14</td>\n",
       "    </tr>\n",
       "    <tr>\n",
       "      <th>Female Characters</th>\n",
       "      <td>1505</td>\n",
       "    </tr>\n",
       "    <tr>\n",
       "      <th>Genderfluid Characters</th>\n",
       "      <td>1</td>\n",
       "    </tr>\n",
       "    <tr>\n",
       "      <th>Male Characters</th>\n",
       "      <td>4506</td>\n",
       "    </tr>\n",
       "  </tbody>\n",
       "</table>\n",
       "</div>"
      ],
      "text/plain": [
       "                                                      name\n",
       "ID                            SEX                         \n",
       "Known to Authorities Identity Agender Characters         1\n",
       "                              Female Characters          5\n",
       "                              Male Characters            9\n",
       "No Dual Identity              Agender Characters        11\n",
       "                              Female Characters        486\n",
       "                              Genderfluid Characters     1\n",
       "                              Male Characters         1246\n",
       "Public Identity               Agender Characters         5\n",
       "                              Female Characters       1051\n",
       "                              Male Characters         3367\n",
       "Secret Identity               Agender Characters        14\n",
       "                              Female Characters       1505\n",
       "                              Genderfluid Characters     1\n",
       "                              Male Characters         4506"
      ]
     },
     "execution_count": 120,
     "metadata": {},
     "output_type": "execute_result"
    }
   ],
   "source": [
    "pd.pivot_table(df, index=['ID','SEX'], values = ['name'], aggfunc='count')"
   ]
  },
  {
   "cell_type": "markdown",
   "metadata": {},
   "source": [
    "#### Multiple functions"
   ]
  },
  {
   "cell_type": "code",
   "execution_count": 121,
   "metadata": {},
   "outputs": [
    {
     "data": {
      "text/html": [
       "<div>\n",
       "<style scoped>\n",
       "    .dataframe tbody tr th:only-of-type {\n",
       "        vertical-align: middle;\n",
       "    }\n",
       "\n",
       "    .dataframe tbody tr th {\n",
       "        vertical-align: top;\n",
       "    }\n",
       "\n",
       "    .dataframe thead tr th {\n",
       "        text-align: left;\n",
       "    }\n",
       "\n",
       "    .dataframe thead tr:last-of-type th {\n",
       "        text-align: right;\n",
       "    }\n",
       "</style>\n",
       "<table border=\"1\" class=\"dataframe\">\n",
       "  <thead>\n",
       "    <tr>\n",
       "      <th></th>\n",
       "      <th></th>\n",
       "      <th>sum</th>\n",
       "      <th>mean</th>\n",
       "      <th>amin</th>\n",
       "      <th>amax</th>\n",
       "    </tr>\n",
       "    <tr>\n",
       "      <th></th>\n",
       "      <th></th>\n",
       "      <th>APPEARANCES</th>\n",
       "      <th>APPEARANCES</th>\n",
       "      <th>APPEARANCES</th>\n",
       "      <th>APPEARANCES</th>\n",
       "    </tr>\n",
       "    <tr>\n",
       "      <th>ID</th>\n",
       "      <th>SEX</th>\n",
       "      <th></th>\n",
       "      <th></th>\n",
       "      <th></th>\n",
       "      <th></th>\n",
       "    </tr>\n",
       "  </thead>\n",
       "  <tbody>\n",
       "    <tr>\n",
       "      <th rowspan=\"3\" valign=\"top\">Known to Authorities Identity</th>\n",
       "      <th>Agender Characters</th>\n",
       "      <td>348.0</td>\n",
       "      <td>348.000000</td>\n",
       "      <td>348.0</td>\n",
       "      <td>348.0</td>\n",
       "    </tr>\n",
       "    <tr>\n",
       "      <th>Female Characters</th>\n",
       "      <td>393.0</td>\n",
       "      <td>78.600000</td>\n",
       "      <td>4.0</td>\n",
       "      <td>319.0</td>\n",
       "    </tr>\n",
       "    <tr>\n",
       "      <th>Male Characters</th>\n",
       "      <td>375.0</td>\n",
       "      <td>41.666667</td>\n",
       "      <td>2.0</td>\n",
       "      <td>146.0</td>\n",
       "    </tr>\n",
       "    <tr>\n",
       "      <th rowspan=\"4\" valign=\"top\">No Dual Identity</th>\n",
       "      <th>Agender Characters</th>\n",
       "      <td>77.0</td>\n",
       "      <td>7.000000</td>\n",
       "      <td>1.0</td>\n",
       "      <td>28.0</td>\n",
       "    </tr>\n",
       "    <tr>\n",
       "      <th>Female Characters</th>\n",
       "      <td>13414.0</td>\n",
       "      <td>28.785408</td>\n",
       "      <td>1.0</td>\n",
       "      <td>1304.0</td>\n",
       "    </tr>\n",
       "    <tr>\n",
       "      <th>Genderfluid Characters</th>\n",
       "      <td>532.0</td>\n",
       "      <td>532.000000</td>\n",
       "      <td>532.0</td>\n",
       "      <td>532.0</td>\n",
       "    </tr>\n",
       "    <tr>\n",
       "      <th>Male Characters</th>\n",
       "      <td>27022.0</td>\n",
       "      <td>23.115483</td>\n",
       "      <td>1.0</td>\n",
       "      <td>2258.0</td>\n",
       "    </tr>\n",
       "    <tr>\n",
       "      <th rowspan=\"3\" valign=\"top\">Public Identity</th>\n",
       "      <th>Agender Characters</th>\n",
       "      <td>99.0</td>\n",
       "      <td>19.800000</td>\n",
       "      <td>4.0</td>\n",
       "      <td>61.0</td>\n",
       "    </tr>\n",
       "    <tr>\n",
       "      <th>Female Characters</th>\n",
       "      <td>25667.0</td>\n",
       "      <td>25.900101</td>\n",
       "      <td>1.0</td>\n",
       "      <td>1713.0</td>\n",
       "    </tr>\n",
       "    <tr>\n",
       "      <th>Male Characters</th>\n",
       "      <td>73966.0</td>\n",
       "      <td>23.208660</td>\n",
       "      <td>1.0</td>\n",
       "      <td>3360.0</td>\n",
       "    </tr>\n",
       "    <tr>\n",
       "      <th rowspan=\"4\" valign=\"top\">Secret Identity</th>\n",
       "      <th>Agender Characters</th>\n",
       "      <td>97.0</td>\n",
       "      <td>8.818182</td>\n",
       "      <td>1.0</td>\n",
       "      <td>54.0</td>\n",
       "    </tr>\n",
       "    <tr>\n",
       "      <th>Female Characters</th>\n",
       "      <td>30104.0</td>\n",
       "      <td>21.110799</td>\n",
       "      <td>1.0</td>\n",
       "      <td>886.0</td>\n",
       "    </tr>\n",
       "    <tr>\n",
       "      <th>Genderfluid Characters</th>\n",
       "      <td>33.0</td>\n",
       "      <td>33.000000</td>\n",
       "      <td>33.0</td>\n",
       "      <td>33.0</td>\n",
       "    </tr>\n",
       "    <tr>\n",
       "      <th>Male Characters</th>\n",
       "      <td>71277.0</td>\n",
       "      <td>16.755289</td>\n",
       "      <td>1.0</td>\n",
       "      <td>4043.0</td>\n",
       "    </tr>\n",
       "  </tbody>\n",
       "</table>\n",
       "</div>"
      ],
      "text/plain": [
       "                                                             sum        mean  \\\n",
       "                                                     APPEARANCES APPEARANCES   \n",
       "ID                            SEX                                              \n",
       "Known to Authorities Identity Agender Characters           348.0  348.000000   \n",
       "                              Female Characters            393.0   78.600000   \n",
       "                              Male Characters              375.0   41.666667   \n",
       "No Dual Identity              Agender Characters            77.0    7.000000   \n",
       "                              Female Characters          13414.0   28.785408   \n",
       "                              Genderfluid Characters       532.0  532.000000   \n",
       "                              Male Characters            27022.0   23.115483   \n",
       "Public Identity               Agender Characters            99.0   19.800000   \n",
       "                              Female Characters          25667.0   25.900101   \n",
       "                              Male Characters            73966.0   23.208660   \n",
       "Secret Identity               Agender Characters            97.0    8.818182   \n",
       "                              Female Characters          30104.0   21.110799   \n",
       "                              Genderfluid Characters        33.0   33.000000   \n",
       "                              Male Characters            71277.0   16.755289   \n",
       "\n",
       "                                                            amin        amax  \n",
       "                                                     APPEARANCES APPEARANCES  \n",
       "ID                            SEX                                             \n",
       "Known to Authorities Identity Agender Characters           348.0       348.0  \n",
       "                              Female Characters              4.0       319.0  \n",
       "                              Male Characters                2.0       146.0  \n",
       "No Dual Identity              Agender Characters             1.0        28.0  \n",
       "                              Female Characters              1.0      1304.0  \n",
       "                              Genderfluid Characters       532.0       532.0  \n",
       "                              Male Characters                1.0      2258.0  \n",
       "Public Identity               Agender Characters             4.0        61.0  \n",
       "                              Female Characters              1.0      1713.0  \n",
       "                              Male Characters                1.0      3360.0  \n",
       "Secret Identity               Agender Characters             1.0        54.0  \n",
       "                              Female Characters              1.0       886.0  \n",
       "                              Genderfluid Characters        33.0        33.0  \n",
       "                              Male Characters                1.0      4043.0  "
      ]
     },
     "execution_count": 121,
     "metadata": {},
     "output_type": "execute_result"
    }
   ],
   "source": [
    "pd.pivot_table(df, index = ['ID','SEX'], values = 'APPEARANCES', aggfunc=[np.sum,np.mean,np.min, np.max])"
   ]
  },
  {
   "cell_type": "code",
   "execution_count": null,
   "metadata": {},
   "outputs": [],
   "source": []
  }
 ],
 "metadata": {
  "kernelspec": {
   "display_name": "Python 3 (ipykernel)",
   "language": "python",
   "name": "python3"
  },
  "language_info": {
   "codemirror_mode": {
    "name": "ipython",
    "version": 3
   },
   "file_extension": ".py",
   "mimetype": "text/x-python",
   "name": "python",
   "nbconvert_exporter": "python",
   "pygments_lexer": "ipython3",
   "version": "3.9.12"
  }
 },
 "nbformat": 4,
 "nbformat_minor": 4
}
